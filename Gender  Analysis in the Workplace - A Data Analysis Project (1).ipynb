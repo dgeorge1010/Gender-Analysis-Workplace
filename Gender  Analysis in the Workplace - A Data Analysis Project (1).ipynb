{
 "cells": [
  {
   "cell_type": "markdown",
   "id": "d1772953",
   "metadata": {},
   "source": [
    "## 1. Problem Statement"
   ]
  },
  {
   "cell_type": "markdown",
   "id": "06dc06da",
   "metadata": {},
   "source": [
    "#### 1. Gender analysis in the workplace provides valuable insights into understanding disparities between genders, particularly in terms of access to resources, opportunities, constraints, and power within the professional environment. \n",
    "#### 2. This project seeks to inform the development of policies, programs, and initiatives aimed at addressing gender disparities within the workplace. \n",
    "#### 3. The goal is to identify strategies that will enhance both employee productivity and overall business performance within the organization.\n"
   ]
  },
  {
   "cell_type": "markdown",
   "id": "282dc49b",
   "metadata": {},
   "source": [
    "## 2. Import Libraries"
   ]
  },
  {
   "cell_type": "code",
   "execution_count": 460,
   "id": "bc97e1b0",
   "metadata": {},
   "outputs": [],
   "source": [
    "import pandas as pd\n",
    "import numpy as np\n",
    "import seaborn as sns \n",
    "import matplotlib.pyplot as plt\n",
    "\n",
    "import warnings\n",
    "warnings.filterwarnings('ignore')\n",
    "\n",
    "%matplotlib inline"
   ]
  },
  {
   "cell_type": "markdown",
   "id": "73eaab59",
   "metadata": {},
   "source": [
    "## 3. Load Dataset"
   ]
  },
  {
   "cell_type": "code",
   "execution_count": 461,
   "id": "5d33495d",
   "metadata": {},
   "outputs": [],
   "source": [
    "hr= pd.read_csv(r'C:\\Users\\12042\\OneDrive\\Documents\\Dunni\\Data Analysis\\DA Projects\\Python Projects\\HR_Data.csv')"
   ]
  },
  {
   "cell_type": "markdown",
   "id": "af16a78c",
   "metadata": {},
   "source": [
    "## 4. Overview of the Data"
   ]
  },
  {
   "cell_type": "code",
   "execution_count": 462,
   "id": "931793a4",
   "metadata": {},
   "outputs": [
    {
     "data": {
      "text/html": [
       "<div>\n",
       "<style scoped>\n",
       "    .dataframe tbody tr th:only-of-type {\n",
       "        vertical-align: middle;\n",
       "    }\n",
       "\n",
       "    .dataframe tbody tr th {\n",
       "        vertical-align: top;\n",
       "    }\n",
       "\n",
       "    .dataframe thead th {\n",
       "        text-align: right;\n",
       "    }\n",
       "</style>\n",
       "<table border=\"1\" class=\"dataframe\">\n",
       "  <thead>\n",
       "    <tr style=\"text-align: right;\">\n",
       "      <th></th>\n",
       "      <th>Age</th>\n",
       "      <th>Attrition</th>\n",
       "      <th>BusinessTravel</th>\n",
       "      <th>DailyRate</th>\n",
       "      <th>Department</th>\n",
       "      <th>DistanceFromHome</th>\n",
       "      <th>Education</th>\n",
       "      <th>EducationField</th>\n",
       "      <th>EmployeeCount</th>\n",
       "      <th>EmployeeNumber</th>\n",
       "      <th>...</th>\n",
       "      <th>RelationshipSatisfaction</th>\n",
       "      <th>StandardHours</th>\n",
       "      <th>StockOptionLevel</th>\n",
       "      <th>TotalWorkingYears</th>\n",
       "      <th>TrainingTimesLastYear</th>\n",
       "      <th>WorkLifeBalance</th>\n",
       "      <th>YearsAtCompany</th>\n",
       "      <th>YearsInCurrentRole</th>\n",
       "      <th>YearsSinceLastPromotion</th>\n",
       "      <th>YearsWithCurrManager</th>\n",
       "    </tr>\n",
       "  </thead>\n",
       "  <tbody>\n",
       "    <tr>\n",
       "      <th>0</th>\n",
       "      <td>51</td>\n",
       "      <td>No</td>\n",
       "      <td>Travel_Rarely</td>\n",
       "      <td>684</td>\n",
       "      <td>Research &amp; Development</td>\n",
       "      <td>6</td>\n",
       "      <td>3</td>\n",
       "      <td>Life Sciences</td>\n",
       "      <td>1</td>\n",
       "      <td>162</td>\n",
       "      <td>...</td>\n",
       "      <td>3</td>\n",
       "      <td>80</td>\n",
       "      <td>0</td>\n",
       "      <td>23</td>\n",
       "      <td>5</td>\n",
       "      <td>3</td>\n",
       "      <td>20</td>\n",
       "      <td>18</td>\n",
       "      <td>15</td>\n",
       "      <td>15</td>\n",
       "    </tr>\n",
       "    <tr>\n",
       "      <th>1</th>\n",
       "      <td>52</td>\n",
       "      <td>No</td>\n",
       "      <td>Travel_Rarely</td>\n",
       "      <td>699</td>\n",
       "      <td>Research &amp; Development</td>\n",
       "      <td>1</td>\n",
       "      <td>4</td>\n",
       "      <td>Life Sciences</td>\n",
       "      <td>1</td>\n",
       "      <td>259</td>\n",
       "      <td>...</td>\n",
       "      <td>1</td>\n",
       "      <td>80</td>\n",
       "      <td>1</td>\n",
       "      <td>34</td>\n",
       "      <td>5</td>\n",
       "      <td>3</td>\n",
       "      <td>33</td>\n",
       "      <td>18</td>\n",
       "      <td>11</td>\n",
       "      <td>9</td>\n",
       "    </tr>\n",
       "    <tr>\n",
       "      <th>2</th>\n",
       "      <td>42</td>\n",
       "      <td>No</td>\n",
       "      <td>Travel_Rarely</td>\n",
       "      <td>532</td>\n",
       "      <td>Research &amp; Development</td>\n",
       "      <td>4</td>\n",
       "      <td>2</td>\n",
       "      <td>Technical Degree</td>\n",
       "      <td>1</td>\n",
       "      <td>319</td>\n",
       "      <td>...</td>\n",
       "      <td>4</td>\n",
       "      <td>80</td>\n",
       "      <td>0</td>\n",
       "      <td>22</td>\n",
       "      <td>3</td>\n",
       "      <td>3</td>\n",
       "      <td>22</td>\n",
       "      <td>17</td>\n",
       "      <td>11</td>\n",
       "      <td>15</td>\n",
       "    </tr>\n",
       "    <tr>\n",
       "      <th>3</th>\n",
       "      <td>47</td>\n",
       "      <td>No</td>\n",
       "      <td>Travel_Rarely</td>\n",
       "      <td>359</td>\n",
       "      <td>Research &amp; Development</td>\n",
       "      <td>2</td>\n",
       "      <td>4</td>\n",
       "      <td>Medical</td>\n",
       "      <td>1</td>\n",
       "      <td>1443</td>\n",
       "      <td>...</td>\n",
       "      <td>2</td>\n",
       "      <td>80</td>\n",
       "      <td>2</td>\n",
       "      <td>26</td>\n",
       "      <td>2</td>\n",
       "      <td>4</td>\n",
       "      <td>20</td>\n",
       "      <td>17</td>\n",
       "      <td>5</td>\n",
       "      <td>6</td>\n",
       "    </tr>\n",
       "    <tr>\n",
       "      <th>4</th>\n",
       "      <td>46</td>\n",
       "      <td>No</td>\n",
       "      <td>Travel_Rarely</td>\n",
       "      <td>1319</td>\n",
       "      <td>Sales</td>\n",
       "      <td>3</td>\n",
       "      <td>3</td>\n",
       "      <td>Technical Degree</td>\n",
       "      <td>1</td>\n",
       "      <td>1863</td>\n",
       "      <td>...</td>\n",
       "      <td>4</td>\n",
       "      <td>80</td>\n",
       "      <td>1</td>\n",
       "      <td>25</td>\n",
       "      <td>5</td>\n",
       "      <td>3</td>\n",
       "      <td>19</td>\n",
       "      <td>17</td>\n",
       "      <td>2</td>\n",
       "      <td>8</td>\n",
       "    </tr>\n",
       "  </tbody>\n",
       "</table>\n",
       "<p>5 rows × 35 columns</p>\n",
       "</div>"
      ],
      "text/plain": [
       "   Age Attrition BusinessTravel  DailyRate              Department  \\\n",
       "0   51        No  Travel_Rarely        684  Research & Development   \n",
       "1   52        No  Travel_Rarely        699  Research & Development   \n",
       "2   42        No  Travel_Rarely        532  Research & Development   \n",
       "3   47        No  Travel_Rarely        359  Research & Development   \n",
       "4   46        No  Travel_Rarely       1319                   Sales   \n",
       "\n",
       "   DistanceFromHome  Education    EducationField  EmployeeCount  \\\n",
       "0                 6          3     Life Sciences              1   \n",
       "1                 1          4     Life Sciences              1   \n",
       "2                 4          2  Technical Degree              1   \n",
       "3                 2          4           Medical              1   \n",
       "4                 3          3  Technical Degree              1   \n",
       "\n",
       "   EmployeeNumber  ...  RelationshipSatisfaction StandardHours  \\\n",
       "0             162  ...                         3            80   \n",
       "1             259  ...                         1            80   \n",
       "2             319  ...                         4            80   \n",
       "3            1443  ...                         2            80   \n",
       "4            1863  ...                         4            80   \n",
       "\n",
       "   StockOptionLevel  TotalWorkingYears  TrainingTimesLastYear WorkLifeBalance  \\\n",
       "0                 0                 23                      5               3   \n",
       "1                 1                 34                      5               3   \n",
       "2                 0                 22                      3               3   \n",
       "3                 2                 26                      2               4   \n",
       "4                 1                 25                      5               3   \n",
       "\n",
       "   YearsAtCompany YearsInCurrentRole  YearsSinceLastPromotion  \\\n",
       "0              20                 18                       15   \n",
       "1              33                 18                       11   \n",
       "2              22                 17                       11   \n",
       "3              20                 17                        5   \n",
       "4              19                 17                        2   \n",
       "\n",
       "   YearsWithCurrManager  \n",
       "0                    15  \n",
       "1                     9  \n",
       "2                    15  \n",
       "3                     6  \n",
       "4                     8  \n",
       "\n",
       "[5 rows x 35 columns]"
      ]
     },
     "execution_count": 462,
     "metadata": {},
     "output_type": "execute_result"
    }
   ],
   "source": [
    "# A quick view of the first 5 rows and features\n",
    "hr.head()"
   ]
  },
  {
   "cell_type": "code",
   "execution_count": 463,
   "id": "c2495572",
   "metadata": {},
   "outputs": [
    {
     "data": {
      "text/html": [
       "<div>\n",
       "<style scoped>\n",
       "    .dataframe tbody tr th:only-of-type {\n",
       "        vertical-align: middle;\n",
       "    }\n",
       "\n",
       "    .dataframe tbody tr th {\n",
       "        vertical-align: top;\n",
       "    }\n",
       "\n",
       "    .dataframe thead th {\n",
       "        text-align: right;\n",
       "    }\n",
       "</style>\n",
       "<table border=\"1\" class=\"dataframe\">\n",
       "  <thead>\n",
       "    <tr style=\"text-align: right;\">\n",
       "      <th></th>\n",
       "      <th>Age</th>\n",
       "      <th>Attrition</th>\n",
       "      <th>BusinessTravel</th>\n",
       "      <th>DailyRate</th>\n",
       "      <th>Department</th>\n",
       "      <th>DistanceFromHome</th>\n",
       "      <th>Education</th>\n",
       "      <th>EducationField</th>\n",
       "      <th>EmployeeCount</th>\n",
       "      <th>EmployeeNumber</th>\n",
       "      <th>...</th>\n",
       "      <th>RelationshipSatisfaction</th>\n",
       "      <th>StandardHours</th>\n",
       "      <th>StockOptionLevel</th>\n",
       "      <th>TotalWorkingYears</th>\n",
       "      <th>TrainingTimesLastYear</th>\n",
       "      <th>WorkLifeBalance</th>\n",
       "      <th>YearsAtCompany</th>\n",
       "      <th>YearsInCurrentRole</th>\n",
       "      <th>YearsSinceLastPromotion</th>\n",
       "      <th>YearsWithCurrManager</th>\n",
       "    </tr>\n",
       "  </thead>\n",
       "  <tbody>\n",
       "    <tr>\n",
       "      <th>1465</th>\n",
       "      <td>25</td>\n",
       "      <td>No</td>\n",
       "      <td>Travel_Rarely</td>\n",
       "      <td>309</td>\n",
       "      <td>Human Resources</td>\n",
       "      <td>2</td>\n",
       "      <td>3</td>\n",
       "      <td>Human Resources</td>\n",
       "      <td>1</td>\n",
       "      <td>1987</td>\n",
       "      <td>...</td>\n",
       "      <td>3</td>\n",
       "      <td>80</td>\n",
       "      <td>0</td>\n",
       "      <td>6</td>\n",
       "      <td>3</td>\n",
       "      <td>3</td>\n",
       "      <td>2</td>\n",
       "      <td>0</td>\n",
       "      <td>1</td>\n",
       "      <td>2</td>\n",
       "    </tr>\n",
       "    <tr>\n",
       "      <th>1466</th>\n",
       "      <td>40</td>\n",
       "      <td>No</td>\n",
       "      <td>Travel_Rarely</td>\n",
       "      <td>543</td>\n",
       "      <td>Research &amp; Development</td>\n",
       "      <td>1</td>\n",
       "      <td>4</td>\n",
       "      <td>Life Sciences</td>\n",
       "      <td>1</td>\n",
       "      <td>2012</td>\n",
       "      <td>...</td>\n",
       "      <td>3</td>\n",
       "      <td>80</td>\n",
       "      <td>2</td>\n",
       "      <td>8</td>\n",
       "      <td>3</td>\n",
       "      <td>2</td>\n",
       "      <td>1</td>\n",
       "      <td>0</td>\n",
       "      <td>0</td>\n",
       "      <td>0</td>\n",
       "    </tr>\n",
       "    <tr>\n",
       "      <th>1467</th>\n",
       "      <td>39</td>\n",
       "      <td>No</td>\n",
       "      <td>Non-Travel</td>\n",
       "      <td>105</td>\n",
       "      <td>Research &amp; Development</td>\n",
       "      <td>9</td>\n",
       "      <td>3</td>\n",
       "      <td>Life Sciences</td>\n",
       "      <td>1</td>\n",
       "      <td>2022</td>\n",
       "      <td>...</td>\n",
       "      <td>3</td>\n",
       "      <td>80</td>\n",
       "      <td>0</td>\n",
       "      <td>21</td>\n",
       "      <td>3</td>\n",
       "      <td>2</td>\n",
       "      <td>6</td>\n",
       "      <td>0</td>\n",
       "      <td>1</td>\n",
       "      <td>3</td>\n",
       "    </tr>\n",
       "    <tr>\n",
       "      <th>1468</th>\n",
       "      <td>23</td>\n",
       "      <td>Yes</td>\n",
       "      <td>Travel_Frequently</td>\n",
       "      <td>638</td>\n",
       "      <td>Sales</td>\n",
       "      <td>9</td>\n",
       "      <td>3</td>\n",
       "      <td>Marketing</td>\n",
       "      <td>1</td>\n",
       "      <td>2023</td>\n",
       "      <td>...</td>\n",
       "      <td>1</td>\n",
       "      <td>80</td>\n",
       "      <td>1</td>\n",
       "      <td>1</td>\n",
       "      <td>3</td>\n",
       "      <td>2</td>\n",
       "      <td>1</td>\n",
       "      <td>0</td>\n",
       "      <td>1</td>\n",
       "      <td>0</td>\n",
       "    </tr>\n",
       "    <tr>\n",
       "      <th>1469</th>\n",
       "      <td>35</td>\n",
       "      <td>No</td>\n",
       "      <td>Travel_Rarely</td>\n",
       "      <td>1146</td>\n",
       "      <td>Human Resources</td>\n",
       "      <td>26</td>\n",
       "      <td>4</td>\n",
       "      <td>Life Sciences</td>\n",
       "      <td>1</td>\n",
       "      <td>2040</td>\n",
       "      <td>...</td>\n",
       "      <td>3</td>\n",
       "      <td>80</td>\n",
       "      <td>0</td>\n",
       "      <td>9</td>\n",
       "      <td>2</td>\n",
       "      <td>3</td>\n",
       "      <td>9</td>\n",
       "      <td>0</td>\n",
       "      <td>1</td>\n",
       "      <td>7</td>\n",
       "    </tr>\n",
       "  </tbody>\n",
       "</table>\n",
       "<p>5 rows × 35 columns</p>\n",
       "</div>"
      ],
      "text/plain": [
       "      Age Attrition     BusinessTravel  DailyRate              Department  \\\n",
       "1465   25        No      Travel_Rarely        309         Human Resources   \n",
       "1466   40        No      Travel_Rarely        543  Research & Development   \n",
       "1467   39        No         Non-Travel        105  Research & Development   \n",
       "1468   23       Yes  Travel_Frequently        638                   Sales   \n",
       "1469   35        No      Travel_Rarely       1146         Human Resources   \n",
       "\n",
       "      DistanceFromHome  Education   EducationField  EmployeeCount  \\\n",
       "1465                 2          3  Human Resources              1   \n",
       "1466                 1          4    Life Sciences              1   \n",
       "1467                 9          3    Life Sciences              1   \n",
       "1468                 9          3        Marketing              1   \n",
       "1469                26          4    Life Sciences              1   \n",
       "\n",
       "      EmployeeNumber  ...  RelationshipSatisfaction StandardHours  \\\n",
       "1465            1987  ...                         3            80   \n",
       "1466            2012  ...                         3            80   \n",
       "1467            2022  ...                         3            80   \n",
       "1468            2023  ...                         1            80   \n",
       "1469            2040  ...                         3            80   \n",
       "\n",
       "      StockOptionLevel  TotalWorkingYears  TrainingTimesLastYear  \\\n",
       "1465                 0                  6                      3   \n",
       "1466                 2                  8                      3   \n",
       "1467                 0                 21                      3   \n",
       "1468                 1                  1                      3   \n",
       "1469                 0                  9                      2   \n",
       "\n",
       "     WorkLifeBalance  YearsAtCompany YearsInCurrentRole  \\\n",
       "1465               3               2                  0   \n",
       "1466               2               1                  0   \n",
       "1467               2               6                  0   \n",
       "1468               2               1                  0   \n",
       "1469               3               9                  0   \n",
       "\n",
       "      YearsSinceLastPromotion  YearsWithCurrManager  \n",
       "1465                        1                     2  \n",
       "1466                        0                     0  \n",
       "1467                        1                     3  \n",
       "1468                        1                     0  \n",
       "1469                        1                     7  \n",
       "\n",
       "[5 rows x 35 columns]"
      ]
     },
     "execution_count": 463,
     "metadata": {},
     "output_type": "execute_result"
    }
   ],
   "source": [
    "# A quick view of the last 5 rows and features\n",
    "hr.tail()"
   ]
  },
  {
   "cell_type": "code",
   "execution_count": 559,
   "id": "46cfadee",
   "metadata": {},
   "outputs": [
    {
     "name": "stdout",
     "output_type": "stream",
     "text": [
      "The number of rows is 1470\n",
      "The number of columns is 35\n"
     ]
    }
   ],
   "source": [
    "# Checking for the shape of the data\n",
    "hr.shape\n",
    "print(\"The number of rows is\", hr.shape[0])\n",
    "print (\"The number of columns is\", hr.shape[1])"
   ]
  },
  {
   "cell_type": "code",
   "execution_count": 465,
   "id": "dd64da18",
   "metadata": {},
   "outputs": [
    {
     "name": "stdout",
     "output_type": "stream",
     "text": [
      "<class 'pandas.core.frame.DataFrame'>\n",
      "RangeIndex: 1470 entries, 0 to 1469\n",
      "Data columns (total 35 columns):\n",
      " #   Column                    Non-Null Count  Dtype \n",
      "---  ------                    --------------  ----- \n",
      " 0   Age                       1470 non-null   int64 \n",
      " 1   Attrition                 1470 non-null   object\n",
      " 2   BusinessTravel            1470 non-null   object\n",
      " 3   DailyRate                 1470 non-null   int64 \n",
      " 4   Department                1470 non-null   object\n",
      " 5   DistanceFromHome          1470 non-null   int64 \n",
      " 6   Education                 1470 non-null   int64 \n",
      " 7   EducationField            1470 non-null   object\n",
      " 8   EmployeeCount             1470 non-null   int64 \n",
      " 9   EmployeeNumber            1470 non-null   int64 \n",
      " 10  EnvironmentSatisfaction   1470 non-null   int64 \n",
      " 11  Gender                    1470 non-null   object\n",
      " 12  HourlyRate                1470 non-null   int64 \n",
      " 13  JobInvolvement            1470 non-null   int64 \n",
      " 14  JobLevel                  1470 non-null   int64 \n",
      " 15  JobRole                   1470 non-null   object\n",
      " 16  JobSatisfaction           1470 non-null   int64 \n",
      " 17  MaritalStatus             1470 non-null   object\n",
      " 18  MonthlyIncome             1470 non-null   int64 \n",
      " 19  MonthlyRate               1470 non-null   int64 \n",
      " 20  NumCompaniesWorked        1470 non-null   int64 \n",
      " 21  Over18                    1470 non-null   object\n",
      " 22  OverTime                  1470 non-null   object\n",
      " 23  PercentSalaryHike         1470 non-null   int64 \n",
      " 24  PerformanceRating         1470 non-null   int64 \n",
      " 25  RelationshipSatisfaction  1470 non-null   int64 \n",
      " 26  StandardHours             1470 non-null   int64 \n",
      " 27  StockOptionLevel          1470 non-null   int64 \n",
      " 28  TotalWorkingYears         1470 non-null   int64 \n",
      " 29  TrainingTimesLastYear     1470 non-null   int64 \n",
      " 30  WorkLifeBalance           1470 non-null   int64 \n",
      " 31  YearsAtCompany            1470 non-null   int64 \n",
      " 32  YearsInCurrentRole        1470 non-null   int64 \n",
      " 33  YearsSinceLastPromotion   1470 non-null   int64 \n",
      " 34  YearsWithCurrManager      1470 non-null   int64 \n",
      "dtypes: int64(26), object(9)\n",
      "memory usage: 402.1+ KB\n"
     ]
    }
   ],
   "source": [
    "# Summary information about dataframe\n",
    "hr.info()"
   ]
  },
  {
   "cell_type": "code",
   "execution_count": 466,
   "id": "615a9d5c",
   "metadata": {},
   "outputs": [
    {
     "data": {
      "text/html": [
       "<div>\n",
       "<style scoped>\n",
       "    .dataframe tbody tr th:only-of-type {\n",
       "        vertical-align: middle;\n",
       "    }\n",
       "\n",
       "    .dataframe tbody tr th {\n",
       "        vertical-align: top;\n",
       "    }\n",
       "\n",
       "    .dataframe thead th {\n",
       "        text-align: right;\n",
       "    }\n",
       "</style>\n",
       "<table border=\"1\" class=\"dataframe\">\n",
       "  <thead>\n",
       "    <tr style=\"text-align: right;\">\n",
       "      <th></th>\n",
       "      <th>Age</th>\n",
       "      <th>DailyRate</th>\n",
       "      <th>DistanceFromHome</th>\n",
       "      <th>Education</th>\n",
       "      <th>EmployeeCount</th>\n",
       "      <th>EmployeeNumber</th>\n",
       "      <th>EnvironmentSatisfaction</th>\n",
       "      <th>HourlyRate</th>\n",
       "      <th>JobInvolvement</th>\n",
       "      <th>JobLevel</th>\n",
       "      <th>...</th>\n",
       "      <th>RelationshipSatisfaction</th>\n",
       "      <th>StandardHours</th>\n",
       "      <th>StockOptionLevel</th>\n",
       "      <th>TotalWorkingYears</th>\n",
       "      <th>TrainingTimesLastYear</th>\n",
       "      <th>WorkLifeBalance</th>\n",
       "      <th>YearsAtCompany</th>\n",
       "      <th>YearsInCurrentRole</th>\n",
       "      <th>YearsSinceLastPromotion</th>\n",
       "      <th>YearsWithCurrManager</th>\n",
       "    </tr>\n",
       "  </thead>\n",
       "  <tbody>\n",
       "    <tr>\n",
       "      <th>count</th>\n",
       "      <td>1470.000000</td>\n",
       "      <td>1470.000000</td>\n",
       "      <td>1470.000000</td>\n",
       "      <td>1470.000000</td>\n",
       "      <td>1470.0</td>\n",
       "      <td>1470.000000</td>\n",
       "      <td>1470.000000</td>\n",
       "      <td>1470.000000</td>\n",
       "      <td>1470.000000</td>\n",
       "      <td>1470.000000</td>\n",
       "      <td>...</td>\n",
       "      <td>1470.000000</td>\n",
       "      <td>1470.0</td>\n",
       "      <td>1470.000000</td>\n",
       "      <td>1470.000000</td>\n",
       "      <td>1470.000000</td>\n",
       "      <td>1470.000000</td>\n",
       "      <td>1470.000000</td>\n",
       "      <td>1470.000000</td>\n",
       "      <td>1470.000000</td>\n",
       "      <td>1470.000000</td>\n",
       "    </tr>\n",
       "    <tr>\n",
       "      <th>mean</th>\n",
       "      <td>36.923810</td>\n",
       "      <td>802.485714</td>\n",
       "      <td>9.192517</td>\n",
       "      <td>2.912925</td>\n",
       "      <td>1.0</td>\n",
       "      <td>1024.865306</td>\n",
       "      <td>2.721769</td>\n",
       "      <td>65.891156</td>\n",
       "      <td>2.729932</td>\n",
       "      <td>2.063946</td>\n",
       "      <td>...</td>\n",
       "      <td>2.712245</td>\n",
       "      <td>80.0</td>\n",
       "      <td>0.793878</td>\n",
       "      <td>11.279592</td>\n",
       "      <td>2.799320</td>\n",
       "      <td>2.761224</td>\n",
       "      <td>7.008163</td>\n",
       "      <td>4.229252</td>\n",
       "      <td>2.187755</td>\n",
       "      <td>4.123129</td>\n",
       "    </tr>\n",
       "    <tr>\n",
       "      <th>std</th>\n",
       "      <td>9.135373</td>\n",
       "      <td>403.509100</td>\n",
       "      <td>8.106864</td>\n",
       "      <td>1.024165</td>\n",
       "      <td>0.0</td>\n",
       "      <td>602.024335</td>\n",
       "      <td>1.093082</td>\n",
       "      <td>20.329428</td>\n",
       "      <td>0.711561</td>\n",
       "      <td>1.106940</td>\n",
       "      <td>...</td>\n",
       "      <td>1.081209</td>\n",
       "      <td>0.0</td>\n",
       "      <td>0.852077</td>\n",
       "      <td>7.780782</td>\n",
       "      <td>1.289271</td>\n",
       "      <td>0.706476</td>\n",
       "      <td>6.126525</td>\n",
       "      <td>3.623137</td>\n",
       "      <td>3.222430</td>\n",
       "      <td>3.568136</td>\n",
       "    </tr>\n",
       "    <tr>\n",
       "      <th>min</th>\n",
       "      <td>18.000000</td>\n",
       "      <td>102.000000</td>\n",
       "      <td>1.000000</td>\n",
       "      <td>1.000000</td>\n",
       "      <td>1.0</td>\n",
       "      <td>1.000000</td>\n",
       "      <td>1.000000</td>\n",
       "      <td>30.000000</td>\n",
       "      <td>1.000000</td>\n",
       "      <td>1.000000</td>\n",
       "      <td>...</td>\n",
       "      <td>1.000000</td>\n",
       "      <td>80.0</td>\n",
       "      <td>0.000000</td>\n",
       "      <td>0.000000</td>\n",
       "      <td>0.000000</td>\n",
       "      <td>1.000000</td>\n",
       "      <td>0.000000</td>\n",
       "      <td>0.000000</td>\n",
       "      <td>0.000000</td>\n",
       "      <td>0.000000</td>\n",
       "    </tr>\n",
       "    <tr>\n",
       "      <th>25%</th>\n",
       "      <td>30.000000</td>\n",
       "      <td>465.000000</td>\n",
       "      <td>2.000000</td>\n",
       "      <td>2.000000</td>\n",
       "      <td>1.0</td>\n",
       "      <td>491.250000</td>\n",
       "      <td>2.000000</td>\n",
       "      <td>48.000000</td>\n",
       "      <td>2.000000</td>\n",
       "      <td>1.000000</td>\n",
       "      <td>...</td>\n",
       "      <td>2.000000</td>\n",
       "      <td>80.0</td>\n",
       "      <td>0.000000</td>\n",
       "      <td>6.000000</td>\n",
       "      <td>2.000000</td>\n",
       "      <td>2.000000</td>\n",
       "      <td>3.000000</td>\n",
       "      <td>2.000000</td>\n",
       "      <td>0.000000</td>\n",
       "      <td>2.000000</td>\n",
       "    </tr>\n",
       "    <tr>\n",
       "      <th>50%</th>\n",
       "      <td>36.000000</td>\n",
       "      <td>802.000000</td>\n",
       "      <td>7.000000</td>\n",
       "      <td>3.000000</td>\n",
       "      <td>1.0</td>\n",
       "      <td>1020.500000</td>\n",
       "      <td>3.000000</td>\n",
       "      <td>66.000000</td>\n",
       "      <td>3.000000</td>\n",
       "      <td>2.000000</td>\n",
       "      <td>...</td>\n",
       "      <td>3.000000</td>\n",
       "      <td>80.0</td>\n",
       "      <td>1.000000</td>\n",
       "      <td>10.000000</td>\n",
       "      <td>3.000000</td>\n",
       "      <td>3.000000</td>\n",
       "      <td>5.000000</td>\n",
       "      <td>3.000000</td>\n",
       "      <td>1.000000</td>\n",
       "      <td>3.000000</td>\n",
       "    </tr>\n",
       "    <tr>\n",
       "      <th>75%</th>\n",
       "      <td>43.000000</td>\n",
       "      <td>1157.000000</td>\n",
       "      <td>14.000000</td>\n",
       "      <td>4.000000</td>\n",
       "      <td>1.0</td>\n",
       "      <td>1555.750000</td>\n",
       "      <td>4.000000</td>\n",
       "      <td>83.750000</td>\n",
       "      <td>3.000000</td>\n",
       "      <td>3.000000</td>\n",
       "      <td>...</td>\n",
       "      <td>4.000000</td>\n",
       "      <td>80.0</td>\n",
       "      <td>1.000000</td>\n",
       "      <td>15.000000</td>\n",
       "      <td>3.000000</td>\n",
       "      <td>3.000000</td>\n",
       "      <td>9.000000</td>\n",
       "      <td>7.000000</td>\n",
       "      <td>3.000000</td>\n",
       "      <td>7.000000</td>\n",
       "    </tr>\n",
       "    <tr>\n",
       "      <th>max</th>\n",
       "      <td>60.000000</td>\n",
       "      <td>1499.000000</td>\n",
       "      <td>29.000000</td>\n",
       "      <td>5.000000</td>\n",
       "      <td>1.0</td>\n",
       "      <td>2068.000000</td>\n",
       "      <td>4.000000</td>\n",
       "      <td>100.000000</td>\n",
       "      <td>4.000000</td>\n",
       "      <td>5.000000</td>\n",
       "      <td>...</td>\n",
       "      <td>4.000000</td>\n",
       "      <td>80.0</td>\n",
       "      <td>3.000000</td>\n",
       "      <td>40.000000</td>\n",
       "      <td>6.000000</td>\n",
       "      <td>4.000000</td>\n",
       "      <td>40.000000</td>\n",
       "      <td>18.000000</td>\n",
       "      <td>15.000000</td>\n",
       "      <td>17.000000</td>\n",
       "    </tr>\n",
       "  </tbody>\n",
       "</table>\n",
       "<p>8 rows × 26 columns</p>\n",
       "</div>"
      ],
      "text/plain": [
       "               Age    DailyRate  DistanceFromHome    Education  EmployeeCount  \\\n",
       "count  1470.000000  1470.000000       1470.000000  1470.000000         1470.0   \n",
       "mean     36.923810   802.485714          9.192517     2.912925            1.0   \n",
       "std       9.135373   403.509100          8.106864     1.024165            0.0   \n",
       "min      18.000000   102.000000          1.000000     1.000000            1.0   \n",
       "25%      30.000000   465.000000          2.000000     2.000000            1.0   \n",
       "50%      36.000000   802.000000          7.000000     3.000000            1.0   \n",
       "75%      43.000000  1157.000000         14.000000     4.000000            1.0   \n",
       "max      60.000000  1499.000000         29.000000     5.000000            1.0   \n",
       "\n",
       "       EmployeeNumber  EnvironmentSatisfaction   HourlyRate  JobInvolvement  \\\n",
       "count     1470.000000              1470.000000  1470.000000     1470.000000   \n",
       "mean      1024.865306                 2.721769    65.891156        2.729932   \n",
       "std        602.024335                 1.093082    20.329428        0.711561   \n",
       "min          1.000000                 1.000000    30.000000        1.000000   \n",
       "25%        491.250000                 2.000000    48.000000        2.000000   \n",
       "50%       1020.500000                 3.000000    66.000000        3.000000   \n",
       "75%       1555.750000                 4.000000    83.750000        3.000000   \n",
       "max       2068.000000                 4.000000   100.000000        4.000000   \n",
       "\n",
       "          JobLevel  ...  RelationshipSatisfaction  StandardHours  \\\n",
       "count  1470.000000  ...               1470.000000         1470.0   \n",
       "mean      2.063946  ...                  2.712245           80.0   \n",
       "std       1.106940  ...                  1.081209            0.0   \n",
       "min       1.000000  ...                  1.000000           80.0   \n",
       "25%       1.000000  ...                  2.000000           80.0   \n",
       "50%       2.000000  ...                  3.000000           80.0   \n",
       "75%       3.000000  ...                  4.000000           80.0   \n",
       "max       5.000000  ...                  4.000000           80.0   \n",
       "\n",
       "       StockOptionLevel  TotalWorkingYears  TrainingTimesLastYear  \\\n",
       "count       1470.000000        1470.000000            1470.000000   \n",
       "mean           0.793878          11.279592               2.799320   \n",
       "std            0.852077           7.780782               1.289271   \n",
       "min            0.000000           0.000000               0.000000   \n",
       "25%            0.000000           6.000000               2.000000   \n",
       "50%            1.000000          10.000000               3.000000   \n",
       "75%            1.000000          15.000000               3.000000   \n",
       "max            3.000000          40.000000               6.000000   \n",
       "\n",
       "       WorkLifeBalance  YearsAtCompany  YearsInCurrentRole  \\\n",
       "count      1470.000000     1470.000000         1470.000000   \n",
       "mean          2.761224        7.008163            4.229252   \n",
       "std           0.706476        6.126525            3.623137   \n",
       "min           1.000000        0.000000            0.000000   \n",
       "25%           2.000000        3.000000            2.000000   \n",
       "50%           3.000000        5.000000            3.000000   \n",
       "75%           3.000000        9.000000            7.000000   \n",
       "max           4.000000       40.000000           18.000000   \n",
       "\n",
       "       YearsSinceLastPromotion  YearsWithCurrManager  \n",
       "count              1470.000000           1470.000000  \n",
       "mean                  2.187755              4.123129  \n",
       "std                   3.222430              3.568136  \n",
       "min                   0.000000              0.000000  \n",
       "25%                   0.000000              2.000000  \n",
       "50%                   1.000000              3.000000  \n",
       "75%                   3.000000              7.000000  \n",
       "max                  15.000000             17.000000  \n",
       "\n",
       "[8 rows x 26 columns]"
      ]
     },
     "execution_count": 466,
     "metadata": {},
     "output_type": "execute_result"
    }
   ],
   "source": [
    "# Summary information on the numeric columns\n",
    "hr.describe()"
   ]
  },
  {
   "cell_type": "markdown",
   "id": "333e5635",
   "metadata": {},
   "source": [
    "## 5. Data Cleaning"
   ]
  },
  {
   "cell_type": "code",
   "execution_count": 467,
   "id": "69dadae2",
   "metadata": {},
   "outputs": [
    {
     "data": {
      "text/plain": [
       "Age                          int64\n",
       "Attrition                   object\n",
       "BusinessTravel              object\n",
       "DailyRate                    int64\n",
       "Department                  object\n",
       "DistanceFromHome             int64\n",
       "Education                    int64\n",
       "EducationField              object\n",
       "EmployeeCount                int64\n",
       "EmployeeNumber               int64\n",
       "EnvironmentSatisfaction      int64\n",
       "Gender                      object\n",
       "HourlyRate                   int64\n",
       "JobInvolvement               int64\n",
       "JobLevel                     int64\n",
       "JobRole                     object\n",
       "JobSatisfaction              int64\n",
       "MaritalStatus               object\n",
       "MonthlyIncome                int64\n",
       "MonthlyRate                  int64\n",
       "NumCompaniesWorked           int64\n",
       "Over18                      object\n",
       "OverTime                    object\n",
       "PercentSalaryHike            int64\n",
       "PerformanceRating            int64\n",
       "RelationshipSatisfaction     int64\n",
       "StandardHours                int64\n",
       "StockOptionLevel             int64\n",
       "TotalWorkingYears            int64\n",
       "TrainingTimesLastYear        int64\n",
       "WorkLifeBalance              int64\n",
       "YearsAtCompany               int64\n",
       "YearsInCurrentRole           int64\n",
       "YearsSinceLastPromotion      int64\n",
       "YearsWithCurrManager         int64\n",
       "dtype: object"
      ]
     },
     "execution_count": 467,
     "metadata": {},
     "output_type": "execute_result"
    }
   ],
   "source": [
    "# checking for data types for columns\n",
    "hr.dtypes"
   ]
  },
  {
   "cell_type": "code",
   "execution_count": 468,
   "id": "de96fc50",
   "metadata": {},
   "outputs": [
    {
     "data": {
      "text/plain": [
       "0"
      ]
     },
     "execution_count": 468,
     "metadata": {},
     "output_type": "execute_result"
    }
   ],
   "source": [
    "# Checking dataset for duplicated rows\n",
    "hr.duplicated().sum()"
   ]
  },
  {
   "cell_type": "code",
   "execution_count": 469,
   "id": "6be36b37",
   "metadata": {},
   "outputs": [
    {
     "data": {
      "text/plain": [
       "Age                         0\n",
       "Attrition                   0\n",
       "BusinessTravel              0\n",
       "DailyRate                   0\n",
       "Department                  0\n",
       "DistanceFromHome            0\n",
       "Education                   0\n",
       "EducationField              0\n",
       "EmployeeCount               0\n",
       "EmployeeNumber              0\n",
       "EnvironmentSatisfaction     0\n",
       "Gender                      0\n",
       "HourlyRate                  0\n",
       "JobInvolvement              0\n",
       "JobLevel                    0\n",
       "JobRole                     0\n",
       "JobSatisfaction             0\n",
       "MaritalStatus               0\n",
       "MonthlyIncome               0\n",
       "MonthlyRate                 0\n",
       "NumCompaniesWorked          0\n",
       "Over18                      0\n",
       "OverTime                    0\n",
       "PercentSalaryHike           0\n",
       "PerformanceRating           0\n",
       "RelationshipSatisfaction    0\n",
       "StandardHours               0\n",
       "StockOptionLevel            0\n",
       "TotalWorkingYears           0\n",
       "TrainingTimesLastYear       0\n",
       "WorkLifeBalance             0\n",
       "YearsAtCompany              0\n",
       "YearsInCurrentRole          0\n",
       "YearsSinceLastPromotion     0\n",
       "YearsWithCurrManager        0\n",
       "dtype: int64"
      ]
     },
     "execution_count": 469,
     "metadata": {},
     "output_type": "execute_result"
    }
   ],
   "source": [
    "# checking for missing values in the columns\n",
    "hr.isnull().sum()"
   ]
  },
  {
   "cell_type": "code",
   "execution_count": 470,
   "id": "d5cb4ad9",
   "metadata": {},
   "outputs": [],
   "source": [
    "# Renaming column names\n",
    "\n",
    "hr = hr.rename (columns ={'Education' : 'EducationLevel', 'TotalWorkingYears' : 'YearsOfExperience'})"
   ]
  },
  {
   "cell_type": "code",
   "execution_count": 471,
   "id": "3ca3d560",
   "metadata": {},
   "outputs": [
    {
     "data": {
      "text/plain": [
       "Index(['Age', 'Attrition', 'BusinessTravel', 'DailyRate', 'Department',\n",
       "       'DistanceFromHome', 'EducationLevel', 'EducationField', 'EmployeeCount',\n",
       "       'EmployeeNumber', 'EnvironmentSatisfaction', 'Gender', 'HourlyRate',\n",
       "       'JobInvolvement', 'JobLevel', 'JobRole', 'JobSatisfaction',\n",
       "       'MaritalStatus', 'MonthlyIncome', 'MonthlyRate', 'NumCompaniesWorked',\n",
       "       'Over18', 'OverTime', 'PercentSalaryHike', 'PerformanceRating',\n",
       "       'RelationshipSatisfaction', 'StandardHours', 'StockOptionLevel',\n",
       "       'YearsOfExperience', 'TrainingTimesLastYear', 'WorkLifeBalance',\n",
       "       'YearsAtCompany', 'YearsInCurrentRole', 'YearsSinceLastPromotion',\n",
       "       'YearsWithCurrManager'],\n",
       "      dtype='object')"
      ]
     },
     "execution_count": 471,
     "metadata": {},
     "output_type": "execute_result"
    }
   ],
   "source": [
    "# List of columns \n",
    "\n",
    "hr.columns"
   ]
  },
  {
   "cell_type": "code",
   "execution_count": 472,
   "id": "c119ed54",
   "metadata": {},
   "outputs": [],
   "source": [
    "# Dropping irrelevant columns and rows from the dataset\n",
    "hr_new = hr.drop(['DistanceFromHome','EmployeeCount',.',EmployeeNumber','MonthlyRate', \n",
    "         'NumCompaniesWorked','Over18','RelationshipSatisfaction', 'StandardHours'], axis=1)"
   ]
  },
  {
   "cell_type": "code",
   "execution_count": 473,
   "id": "a7c5d804",
   "metadata": {},
   "outputs": [
    {
     "data": {
      "text/plain": [
       "Index(['Age', 'Attrition', 'BusinessTravel', 'DailyRate', 'Department',\n",
       "       'EducationLevel', 'EducationField', 'EnvironmentSatisfaction', 'Gender',\n",
       "       'HourlyRate', 'JobInvolvement', 'JobLevel', 'JobRole',\n",
       "       'JobSatisfaction', 'MaritalStatus', 'MonthlyIncome', 'OverTime',\n",
       "       'PercentSalaryHike', 'PerformanceRating', 'StockOptionLevel',\n",
       "       'YearsOfExperience', 'TrainingTimesLastYear', 'WorkLifeBalance',\n",
       "       'YearsAtCompany', 'YearsInCurrentRole', 'YearsSinceLastPromotion',\n",
       "       'YearsWithCurrManager'],\n",
       "      dtype='object')"
      ]
     },
     "execution_count": 473,
     "metadata": {},
     "output_type": "execute_result"
    }
   ],
   "source": [
    "hr_new.columns"
   ]
  },
  {
   "cell_type": "code",
   "execution_count": 474,
   "id": "3fad94f9",
   "metadata": {},
   "outputs": [
    {
     "data": {
      "text/plain": [
       "(1470, 27)"
      ]
     },
     "execution_count": 474,
     "metadata": {},
     "output_type": "execute_result"
    }
   ],
   "source": [
    "hr_new.shape"
   ]
  },
  {
   "cell_type": "code",
   "execution_count": 475,
   "id": "5f0b3787",
   "metadata": {},
   "outputs": [
    {
     "data": {
      "text/html": [
       "<div>\n",
       "<style scoped>\n",
       "    .dataframe tbody tr th:only-of-type {\n",
       "        vertical-align: middle;\n",
       "    }\n",
       "\n",
       "    .dataframe tbody tr th {\n",
       "        vertical-align: top;\n",
       "    }\n",
       "\n",
       "    .dataframe thead th {\n",
       "        text-align: right;\n",
       "    }\n",
       "</style>\n",
       "<table border=\"1\" class=\"dataframe\">\n",
       "  <thead>\n",
       "    <tr style=\"text-align: right;\">\n",
       "      <th></th>\n",
       "      <th>Age</th>\n",
       "      <th>Attrition</th>\n",
       "      <th>BusinessTravel</th>\n",
       "      <th>DailyRate</th>\n",
       "      <th>Department</th>\n",
       "      <th>EducationLevel</th>\n",
       "      <th>EducationField</th>\n",
       "      <th>EnvironmentSatisfaction</th>\n",
       "      <th>Gender</th>\n",
       "      <th>HourlyRate</th>\n",
       "      <th>...</th>\n",
       "      <th>PercentSalaryHike</th>\n",
       "      <th>PerformanceRating</th>\n",
       "      <th>StockOptionLevel</th>\n",
       "      <th>YearsOfExperience</th>\n",
       "      <th>TrainingTimesLastYear</th>\n",
       "      <th>WorkLifeBalance</th>\n",
       "      <th>YearsAtCompany</th>\n",
       "      <th>YearsInCurrentRole</th>\n",
       "      <th>YearsSinceLastPromotion</th>\n",
       "      <th>YearsWithCurrManager</th>\n",
       "    </tr>\n",
       "  </thead>\n",
       "  <tbody>\n",
       "    <tr>\n",
       "      <th>0</th>\n",
       "      <td>51</td>\n",
       "      <td>No</td>\n",
       "      <td>Travel_Rarely</td>\n",
       "      <td>684</td>\n",
       "      <td>Research &amp; Development</td>\n",
       "      <td>3</td>\n",
       "      <td>Life Sciences</td>\n",
       "      <td>1</td>\n",
       "      <td>Male</td>\n",
       "      <td>51</td>\n",
       "      <td>...</td>\n",
       "      <td>13</td>\n",
       "      <td>3</td>\n",
       "      <td>0</td>\n",
       "      <td>23</td>\n",
       "      <td>5</td>\n",
       "      <td>3</td>\n",
       "      <td>20</td>\n",
       "      <td>18</td>\n",
       "      <td>15</td>\n",
       "      <td>15</td>\n",
       "    </tr>\n",
       "    <tr>\n",
       "      <th>1</th>\n",
       "      <td>52</td>\n",
       "      <td>No</td>\n",
       "      <td>Travel_Rarely</td>\n",
       "      <td>699</td>\n",
       "      <td>Research &amp; Development</td>\n",
       "      <td>4</td>\n",
       "      <td>Life Sciences</td>\n",
       "      <td>3</td>\n",
       "      <td>Male</td>\n",
       "      <td>65</td>\n",
       "      <td>...</td>\n",
       "      <td>14</td>\n",
       "      <td>3</td>\n",
       "      <td>1</td>\n",
       "      <td>34</td>\n",
       "      <td>5</td>\n",
       "      <td>3</td>\n",
       "      <td>33</td>\n",
       "      <td>18</td>\n",
       "      <td>11</td>\n",
       "      <td>9</td>\n",
       "    </tr>\n",
       "    <tr>\n",
       "      <th>2</th>\n",
       "      <td>42</td>\n",
       "      <td>No</td>\n",
       "      <td>Travel_Rarely</td>\n",
       "      <td>532</td>\n",
       "      <td>Research &amp; Development</td>\n",
       "      <td>2</td>\n",
       "      <td>Technical Degree</td>\n",
       "      <td>3</td>\n",
       "      <td>Male</td>\n",
       "      <td>58</td>\n",
       "      <td>...</td>\n",
       "      <td>11</td>\n",
       "      <td>3</td>\n",
       "      <td>0</td>\n",
       "      <td>22</td>\n",
       "      <td>3</td>\n",
       "      <td>3</td>\n",
       "      <td>22</td>\n",
       "      <td>17</td>\n",
       "      <td>11</td>\n",
       "      <td>15</td>\n",
       "    </tr>\n",
       "    <tr>\n",
       "      <th>3</th>\n",
       "      <td>47</td>\n",
       "      <td>No</td>\n",
       "      <td>Travel_Rarely</td>\n",
       "      <td>359</td>\n",
       "      <td>Research &amp; Development</td>\n",
       "      <td>4</td>\n",
       "      <td>Medical</td>\n",
       "      <td>1</td>\n",
       "      <td>Female</td>\n",
       "      <td>82</td>\n",
       "      <td>...</td>\n",
       "      <td>19</td>\n",
       "      <td>3</td>\n",
       "      <td>2</td>\n",
       "      <td>26</td>\n",
       "      <td>2</td>\n",
       "      <td>4</td>\n",
       "      <td>20</td>\n",
       "      <td>17</td>\n",
       "      <td>5</td>\n",
       "      <td>6</td>\n",
       "    </tr>\n",
       "    <tr>\n",
       "      <th>4</th>\n",
       "      <td>46</td>\n",
       "      <td>No</td>\n",
       "      <td>Travel_Rarely</td>\n",
       "      <td>1319</td>\n",
       "      <td>Sales</td>\n",
       "      <td>3</td>\n",
       "      <td>Technical Degree</td>\n",
       "      <td>1</td>\n",
       "      <td>Female</td>\n",
       "      <td>45</td>\n",
       "      <td>...</td>\n",
       "      <td>12</td>\n",
       "      <td>3</td>\n",
       "      <td>1</td>\n",
       "      <td>25</td>\n",
       "      <td>5</td>\n",
       "      <td>3</td>\n",
       "      <td>19</td>\n",
       "      <td>17</td>\n",
       "      <td>2</td>\n",
       "      <td>8</td>\n",
       "    </tr>\n",
       "  </tbody>\n",
       "</table>\n",
       "<p>5 rows × 27 columns</p>\n",
       "</div>"
      ],
      "text/plain": [
       "   Age Attrition BusinessTravel  DailyRate              Department  \\\n",
       "0   51        No  Travel_Rarely        684  Research & Development   \n",
       "1   52        No  Travel_Rarely        699  Research & Development   \n",
       "2   42        No  Travel_Rarely        532  Research & Development   \n",
       "3   47        No  Travel_Rarely        359  Research & Development   \n",
       "4   46        No  Travel_Rarely       1319                   Sales   \n",
       "\n",
       "   EducationLevel    EducationField  EnvironmentSatisfaction  Gender  \\\n",
       "0               3     Life Sciences                        1    Male   \n",
       "1               4     Life Sciences                        3    Male   \n",
       "2               2  Technical Degree                        3    Male   \n",
       "3               4           Medical                        1  Female   \n",
       "4               3  Technical Degree                        1  Female   \n",
       "\n",
       "   HourlyRate  ...  PercentSalaryHike  PerformanceRating StockOptionLevel  \\\n",
       "0          51  ...                 13                  3                0   \n",
       "1          65  ...                 14                  3                1   \n",
       "2          58  ...                 11                  3                0   \n",
       "3          82  ...                 19                  3                2   \n",
       "4          45  ...                 12                  3                1   \n",
       "\n",
       "   YearsOfExperience TrainingTimesLastYear  WorkLifeBalance YearsAtCompany  \\\n",
       "0                 23                     5                3             20   \n",
       "1                 34                     5                3             33   \n",
       "2                 22                     3                3             22   \n",
       "3                 26                     2                4             20   \n",
       "4                 25                     5                3             19   \n",
       "\n",
       "   YearsInCurrentRole  YearsSinceLastPromotion  YearsWithCurrManager  \n",
       "0                  18                       15                    15  \n",
       "1                  18                       11                     9  \n",
       "2                  17                       11                    15  \n",
       "3                  17                        5                     6  \n",
       "4                  17                        2                     8  \n",
       "\n",
       "[5 rows x 27 columns]"
      ]
     },
     "execution_count": 475,
     "metadata": {},
     "output_type": "execute_result"
    }
   ],
   "source": [
    "hr_new.head()"
   ]
  },
  {
   "cell_type": "code",
   "execution_count": 476,
   "id": "a8d0958d",
   "metadata": {},
   "outputs": [
    {
     "data": {
      "text/plain": [
       "EducationLevel\n",
       "3    572\n",
       "4    398\n",
       "2    282\n",
       "1    170\n",
       "5     48\n",
       "Name: count, dtype: int64"
      ]
     },
     "execution_count": 476,
     "metadata": {},
     "output_type": "execute_result"
    }
   ],
   "source": [
    "# Counting the unique values in the \"Education Level\" column\n",
    "\n",
    "hr_new['EducationLevel'].value_counts()"
   ]
  },
  {
   "cell_type": "code",
   "execution_count": 477,
   "id": "4944bc66",
   "metadata": {},
   "outputs": [],
   "source": [
    "# Replacing values in Education level column\n",
    "hr_new['EducationLevel'].replace({1: 'Below College', 2: 'College', 3: 'Bachelor', 4:'Master', 5: 'Ph.D' },inplace =True )"
   ]
  },
  {
   "cell_type": "code",
   "execution_count": 478,
   "id": "c13dd77a",
   "metadata": {},
   "outputs": [
    {
     "data": {
      "text/plain": [
       "EducationLevel\n",
       "Bachelor         572\n",
       "Master           398\n",
       "College          282\n",
       "Below College    170\n",
       "Ph.D              48\n",
       "Name: count, dtype: int64"
      ]
     },
     "execution_count": 478,
     "metadata": {},
     "output_type": "execute_result"
    }
   ],
   "source": [
    "hr_new['EducationLevel'].value_counts()"
   ]
  },
  {
   "cell_type": "code",
   "execution_count": 479,
   "id": "e130c093",
   "metadata": {},
   "outputs": [
    {
     "data": {
      "text/plain": [
       "JobSatisfaction\n",
       "4    459\n",
       "3    442\n",
       "1    289\n",
       "2    280\n",
       "Name: count, dtype: int64"
      ]
     },
     "execution_count": 479,
     "metadata": {},
     "output_type": "execute_result"
    }
   ],
   "source": [
    "# Counting the unique values in the \"Job Satisfaction\" column\n",
    "\n",
    "hr_new['JobSatisfaction'].value_counts()"
   ]
  },
  {
   "cell_type": "code",
   "execution_count": 480,
   "id": "2a9571b2",
   "metadata": {},
   "outputs": [],
   "source": [
    "# Replacing values in Job Satisfaction column\n",
    "hr_new['JobSatisfaction'].replace({1: 'Low', 2: 'Partial', 3: 'High', 4:'Very High'}, inplace =True)"
   ]
  },
  {
   "cell_type": "code",
   "execution_count": 481,
   "id": "9dfc1276",
   "metadata": {},
   "outputs": [
    {
     "data": {
      "text/plain": [
       "JobInvolvement\n",
       "3    868\n",
       "2    375\n",
       "4    144\n",
       "1     83\n",
       "Name: count, dtype: int64"
      ]
     },
     "execution_count": 481,
     "metadata": {},
     "output_type": "execute_result"
    }
   ],
   "source": [
    " hr_new['JobInvolvement'].value_counts()"
   ]
  },
  {
   "cell_type": "code",
   "execution_count": 482,
   "id": "cb5d545f",
   "metadata": {},
   "outputs": [],
   "source": [
    "# Replacing values in Job Involvement column\n",
    "hr_new['JobInvolvement'].replace({1: 'Low', 2: 'Partial', 3: 'High', 4:'Very High'}, inplace =True)"
   ]
  },
  {
   "cell_type": "code",
   "execution_count": 483,
   "id": "150a907e",
   "metadata": {},
   "outputs": [
    {
     "data": {
      "text/plain": [
       "JobInvolvement\n",
       "High         868\n",
       "Partial      375\n",
       "Very High    144\n",
       "Low           83\n",
       "Name: count, dtype: int64"
      ]
     },
     "execution_count": 483,
     "metadata": {},
     "output_type": "execute_result"
    }
   ],
   "source": [
    " hr_new['JobInvolvement'].value_counts()"
   ]
  },
  {
   "cell_type": "code",
   "execution_count": 484,
   "id": "2209b6ff",
   "metadata": {},
   "outputs": [],
   "source": [
    "# Replacing values in Job Satisfaction column\n",
    "hr_new['PerformanceRating'].replace({1: 'Low', 2: 'Good', 3: 'Very Good', 4:'Outstanding'}, inplace =True)"
   ]
  },
  {
   "cell_type": "code",
   "execution_count": 485,
   "id": "7384df71",
   "metadata": {},
   "outputs": [
    {
     "data": {
      "text/plain": [
       "PerformanceRating\n",
       "Very Good      1244\n",
       "Outstanding     226\n",
       "Name: count, dtype: int64"
      ]
     },
     "execution_count": 485,
     "metadata": {},
     "output_type": "execute_result"
    }
   ],
   "source": [
    "hr_new['PerformanceRating'].value_counts()"
   ]
  },
  {
   "cell_type": "code",
   "execution_count": 486,
   "id": "9e6b5491",
   "metadata": {},
   "outputs": [],
   "source": [
    "# Replacing values in Job Satisfaction column\n",
    "hr_new['WorkLifeBalance'].replace({1: 'Bad', 2: 'Good', 3: 'Better', 4:'Best'}, inplace =True)"
   ]
  },
  {
   "cell_type": "code",
   "execution_count": 487,
   "id": "0b44b49b",
   "metadata": {},
   "outputs": [
    {
     "data": {
      "text/plain": [
       "WorkLifeBalance\n",
       "Better    893\n",
       "Good      344\n",
       "Best      153\n",
       "Bad        80\n",
       "Name: count, dtype: int64"
      ]
     },
     "execution_count": 487,
     "metadata": {},
     "output_type": "execute_result"
    }
   ],
   "source": [
    "hr_new['WorkLifeBalance'].value_counts()"
   ]
  },
  {
   "cell_type": "code",
   "execution_count": 488,
   "id": "004a7e53",
   "metadata": {},
   "outputs": [],
   "source": [
    "# Replacing values in Job Involvement column\n",
    "hr_new['EnvironmentSatisfaction'].replace({1: 'Low', 2: 'Partial', 3: 'High', 4:'Very High'}, inplace =True)"
   ]
  },
  {
   "cell_type": "code",
   "execution_count": 489,
   "id": "5728e1a2",
   "metadata": {},
   "outputs": [
    {
     "data": {
      "text/plain": [
       "EnvironmentSatisfaction\n",
       "High         453\n",
       "Very High    446\n",
       "Partial      287\n",
       "Low          284\n",
       "Name: count, dtype: int64"
      ]
     },
     "execution_count": 489,
     "metadata": {},
     "output_type": "execute_result"
    }
   ],
   "source": [
    "hr_new['EnvironmentSatisfaction'].value_counts()"
   ]
  },
  {
   "cell_type": "code",
   "execution_count": 490,
   "id": "f5cdd179",
   "metadata": {},
   "outputs": [
    {
     "data": {
      "text/html": [
       "<div>\n",
       "<style scoped>\n",
       "    .dataframe tbody tr th:only-of-type {\n",
       "        vertical-align: middle;\n",
       "    }\n",
       "\n",
       "    .dataframe tbody tr th {\n",
       "        vertical-align: top;\n",
       "    }\n",
       "\n",
       "    .dataframe thead th {\n",
       "        text-align: right;\n",
       "    }\n",
       "</style>\n",
       "<table border=\"1\" class=\"dataframe\">\n",
       "  <thead>\n",
       "    <tr style=\"text-align: right;\">\n",
       "      <th></th>\n",
       "      <th>Age</th>\n",
       "      <th>Attrition</th>\n",
       "      <th>BusinessTravel</th>\n",
       "      <th>DailyRate</th>\n",
       "      <th>Department</th>\n",
       "      <th>EducationLevel</th>\n",
       "      <th>EducationField</th>\n",
       "      <th>EnvironmentSatisfaction</th>\n",
       "      <th>Gender</th>\n",
       "      <th>HourlyRate</th>\n",
       "      <th>...</th>\n",
       "      <th>PercentSalaryHike</th>\n",
       "      <th>PerformanceRating</th>\n",
       "      <th>StockOptionLevel</th>\n",
       "      <th>YearsOfExperience</th>\n",
       "      <th>TrainingTimesLastYear</th>\n",
       "      <th>WorkLifeBalance</th>\n",
       "      <th>YearsAtCompany</th>\n",
       "      <th>YearsInCurrentRole</th>\n",
       "      <th>YearsSinceLastPromotion</th>\n",
       "      <th>YearsWithCurrManager</th>\n",
       "    </tr>\n",
       "  </thead>\n",
       "  <tbody>\n",
       "    <tr>\n",
       "      <th>0</th>\n",
       "      <td>51</td>\n",
       "      <td>No</td>\n",
       "      <td>Travel_Rarely</td>\n",
       "      <td>684</td>\n",
       "      <td>Research &amp; Development</td>\n",
       "      <td>Bachelor</td>\n",
       "      <td>Life Sciences</td>\n",
       "      <td>Low</td>\n",
       "      <td>Male</td>\n",
       "      <td>51</td>\n",
       "      <td>...</td>\n",
       "      <td>13</td>\n",
       "      <td>Very Good</td>\n",
       "      <td>0</td>\n",
       "      <td>23</td>\n",
       "      <td>5</td>\n",
       "      <td>Better</td>\n",
       "      <td>20</td>\n",
       "      <td>18</td>\n",
       "      <td>15</td>\n",
       "      <td>15</td>\n",
       "    </tr>\n",
       "    <tr>\n",
       "      <th>1</th>\n",
       "      <td>52</td>\n",
       "      <td>No</td>\n",
       "      <td>Travel_Rarely</td>\n",
       "      <td>699</td>\n",
       "      <td>Research &amp; Development</td>\n",
       "      <td>Master</td>\n",
       "      <td>Life Sciences</td>\n",
       "      <td>High</td>\n",
       "      <td>Male</td>\n",
       "      <td>65</td>\n",
       "      <td>...</td>\n",
       "      <td>14</td>\n",
       "      <td>Very Good</td>\n",
       "      <td>1</td>\n",
       "      <td>34</td>\n",
       "      <td>5</td>\n",
       "      <td>Better</td>\n",
       "      <td>33</td>\n",
       "      <td>18</td>\n",
       "      <td>11</td>\n",
       "      <td>9</td>\n",
       "    </tr>\n",
       "    <tr>\n",
       "      <th>2</th>\n",
       "      <td>42</td>\n",
       "      <td>No</td>\n",
       "      <td>Travel_Rarely</td>\n",
       "      <td>532</td>\n",
       "      <td>Research &amp; Development</td>\n",
       "      <td>College</td>\n",
       "      <td>Technical Degree</td>\n",
       "      <td>High</td>\n",
       "      <td>Male</td>\n",
       "      <td>58</td>\n",
       "      <td>...</td>\n",
       "      <td>11</td>\n",
       "      <td>Very Good</td>\n",
       "      <td>0</td>\n",
       "      <td>22</td>\n",
       "      <td>3</td>\n",
       "      <td>Better</td>\n",
       "      <td>22</td>\n",
       "      <td>17</td>\n",
       "      <td>11</td>\n",
       "      <td>15</td>\n",
       "    </tr>\n",
       "    <tr>\n",
       "      <th>3</th>\n",
       "      <td>47</td>\n",
       "      <td>No</td>\n",
       "      <td>Travel_Rarely</td>\n",
       "      <td>359</td>\n",
       "      <td>Research &amp; Development</td>\n",
       "      <td>Master</td>\n",
       "      <td>Medical</td>\n",
       "      <td>Low</td>\n",
       "      <td>Female</td>\n",
       "      <td>82</td>\n",
       "      <td>...</td>\n",
       "      <td>19</td>\n",
       "      <td>Very Good</td>\n",
       "      <td>2</td>\n",
       "      <td>26</td>\n",
       "      <td>2</td>\n",
       "      <td>Best</td>\n",
       "      <td>20</td>\n",
       "      <td>17</td>\n",
       "      <td>5</td>\n",
       "      <td>6</td>\n",
       "    </tr>\n",
       "    <tr>\n",
       "      <th>4</th>\n",
       "      <td>46</td>\n",
       "      <td>No</td>\n",
       "      <td>Travel_Rarely</td>\n",
       "      <td>1319</td>\n",
       "      <td>Sales</td>\n",
       "      <td>Bachelor</td>\n",
       "      <td>Technical Degree</td>\n",
       "      <td>Low</td>\n",
       "      <td>Female</td>\n",
       "      <td>45</td>\n",
       "      <td>...</td>\n",
       "      <td>12</td>\n",
       "      <td>Very Good</td>\n",
       "      <td>1</td>\n",
       "      <td>25</td>\n",
       "      <td>5</td>\n",
       "      <td>Better</td>\n",
       "      <td>19</td>\n",
       "      <td>17</td>\n",
       "      <td>2</td>\n",
       "      <td>8</td>\n",
       "    </tr>\n",
       "  </tbody>\n",
       "</table>\n",
       "<p>5 rows × 27 columns</p>\n",
       "</div>"
      ],
      "text/plain": [
       "   Age Attrition BusinessTravel  DailyRate              Department  \\\n",
       "0   51        No  Travel_Rarely        684  Research & Development   \n",
       "1   52        No  Travel_Rarely        699  Research & Development   \n",
       "2   42        No  Travel_Rarely        532  Research & Development   \n",
       "3   47        No  Travel_Rarely        359  Research & Development   \n",
       "4   46        No  Travel_Rarely       1319                   Sales   \n",
       "\n",
       "  EducationLevel    EducationField EnvironmentSatisfaction  Gender  \\\n",
       "0       Bachelor     Life Sciences                     Low    Male   \n",
       "1         Master     Life Sciences                    High    Male   \n",
       "2        College  Technical Degree                    High    Male   \n",
       "3         Master           Medical                     Low  Female   \n",
       "4       Bachelor  Technical Degree                     Low  Female   \n",
       "\n",
       "   HourlyRate  ... PercentSalaryHike  PerformanceRating StockOptionLevel  \\\n",
       "0          51  ...                13          Very Good                0   \n",
       "1          65  ...                14          Very Good                1   \n",
       "2          58  ...                11          Very Good                0   \n",
       "3          82  ...                19          Very Good                2   \n",
       "4          45  ...                12          Very Good                1   \n",
       "\n",
       "  YearsOfExperience TrainingTimesLastYear  WorkLifeBalance YearsAtCompany  \\\n",
       "0                23                     5           Better             20   \n",
       "1                34                     5           Better             33   \n",
       "2                22                     3           Better             22   \n",
       "3                26                     2             Best             20   \n",
       "4                25                     5           Better             19   \n",
       "\n",
       "   YearsInCurrentRole YearsSinceLastPromotion  YearsWithCurrManager  \n",
       "0                  18                      15                    15  \n",
       "1                  18                      11                     9  \n",
       "2                  17                      11                    15  \n",
       "3                  17                       5                     6  \n",
       "4                  17                       2                     8  \n",
       "\n",
       "[5 rows x 27 columns]"
      ]
     },
     "execution_count": 490,
     "metadata": {},
     "output_type": "execute_result"
    }
   ],
   "source": [
    "hr_new.head()"
   ]
  },
  {
   "cell_type": "code",
   "execution_count": 491,
   "id": "715ecedc",
   "metadata": {},
   "outputs": [
    {
     "data": {
      "text/html": [
       "<div>\n",
       "<style scoped>\n",
       "    .dataframe tbody tr th:only-of-type {\n",
       "        vertical-align: middle;\n",
       "    }\n",
       "\n",
       "    .dataframe tbody tr th {\n",
       "        vertical-align: top;\n",
       "    }\n",
       "\n",
       "    .dataframe thead th {\n",
       "        text-align: right;\n",
       "    }\n",
       "</style>\n",
       "<table border=\"1\" class=\"dataframe\">\n",
       "  <thead>\n",
       "    <tr style=\"text-align: right;\">\n",
       "      <th></th>\n",
       "      <th>Age</th>\n",
       "      <th>Attrition</th>\n",
       "      <th>BusinessTravel</th>\n",
       "      <th>DailyRate</th>\n",
       "      <th>Department</th>\n",
       "      <th>EducationLevel</th>\n",
       "      <th>EducationField</th>\n",
       "      <th>EnvironmentSatisfaction</th>\n",
       "      <th>Gender</th>\n",
       "      <th>HourlyRate</th>\n",
       "      <th>...</th>\n",
       "      <th>PerformanceRating</th>\n",
       "      <th>StockOptionLevel</th>\n",
       "      <th>YearsOfExperience</th>\n",
       "      <th>TrainingTimesLastYear</th>\n",
       "      <th>WorkLifeBalance</th>\n",
       "      <th>YearsAtCompany</th>\n",
       "      <th>YearsInCurrentRole</th>\n",
       "      <th>YearsSinceLastPromotion</th>\n",
       "      <th>YearsWithCurrManager</th>\n",
       "      <th>PositionLevel</th>\n",
       "    </tr>\n",
       "  </thead>\n",
       "  <tbody>\n",
       "    <tr>\n",
       "      <th>0</th>\n",
       "      <td>51</td>\n",
       "      <td>No</td>\n",
       "      <td>Travel_Rarely</td>\n",
       "      <td>684</td>\n",
       "      <td>Research &amp; Development</td>\n",
       "      <td>Bachelor</td>\n",
       "      <td>Life Sciences</td>\n",
       "      <td>Low</td>\n",
       "      <td>Male</td>\n",
       "      <td>51</td>\n",
       "      <td>...</td>\n",
       "      <td>Very Good</td>\n",
       "      <td>0</td>\n",
       "      <td>23</td>\n",
       "      <td>5</td>\n",
       "      <td>Better</td>\n",
       "      <td>20</td>\n",
       "      <td>18</td>\n",
       "      <td>15</td>\n",
       "      <td>15</td>\n",
       "      <td>Senior</td>\n",
       "    </tr>\n",
       "    <tr>\n",
       "      <th>1</th>\n",
       "      <td>52</td>\n",
       "      <td>No</td>\n",
       "      <td>Travel_Rarely</td>\n",
       "      <td>699</td>\n",
       "      <td>Research &amp; Development</td>\n",
       "      <td>Master</td>\n",
       "      <td>Life Sciences</td>\n",
       "      <td>High</td>\n",
       "      <td>Male</td>\n",
       "      <td>65</td>\n",
       "      <td>...</td>\n",
       "      <td>Very Good</td>\n",
       "      <td>1</td>\n",
       "      <td>34</td>\n",
       "      <td>5</td>\n",
       "      <td>Better</td>\n",
       "      <td>33</td>\n",
       "      <td>18</td>\n",
       "      <td>11</td>\n",
       "      <td>9</td>\n",
       "      <td>Senior</td>\n",
       "    </tr>\n",
       "    <tr>\n",
       "      <th>2</th>\n",
       "      <td>42</td>\n",
       "      <td>No</td>\n",
       "      <td>Travel_Rarely</td>\n",
       "      <td>532</td>\n",
       "      <td>Research &amp; Development</td>\n",
       "      <td>College</td>\n",
       "      <td>Technical Degree</td>\n",
       "      <td>High</td>\n",
       "      <td>Male</td>\n",
       "      <td>58</td>\n",
       "      <td>...</td>\n",
       "      <td>Very Good</td>\n",
       "      <td>0</td>\n",
       "      <td>22</td>\n",
       "      <td>3</td>\n",
       "      <td>Better</td>\n",
       "      <td>22</td>\n",
       "      <td>17</td>\n",
       "      <td>11</td>\n",
       "      <td>15</td>\n",
       "      <td>Senior</td>\n",
       "    </tr>\n",
       "    <tr>\n",
       "      <th>3</th>\n",
       "      <td>47</td>\n",
       "      <td>No</td>\n",
       "      <td>Travel_Rarely</td>\n",
       "      <td>359</td>\n",
       "      <td>Research &amp; Development</td>\n",
       "      <td>Master</td>\n",
       "      <td>Medical</td>\n",
       "      <td>Low</td>\n",
       "      <td>Female</td>\n",
       "      <td>82</td>\n",
       "      <td>...</td>\n",
       "      <td>Very Good</td>\n",
       "      <td>2</td>\n",
       "      <td>26</td>\n",
       "      <td>2</td>\n",
       "      <td>Best</td>\n",
       "      <td>20</td>\n",
       "      <td>17</td>\n",
       "      <td>5</td>\n",
       "      <td>6</td>\n",
       "      <td>Senior</td>\n",
       "    </tr>\n",
       "    <tr>\n",
       "      <th>4</th>\n",
       "      <td>46</td>\n",
       "      <td>No</td>\n",
       "      <td>Travel_Rarely</td>\n",
       "      <td>1319</td>\n",
       "      <td>Sales</td>\n",
       "      <td>Bachelor</td>\n",
       "      <td>Technical Degree</td>\n",
       "      <td>Low</td>\n",
       "      <td>Female</td>\n",
       "      <td>45</td>\n",
       "      <td>...</td>\n",
       "      <td>Very Good</td>\n",
       "      <td>1</td>\n",
       "      <td>25</td>\n",
       "      <td>5</td>\n",
       "      <td>Better</td>\n",
       "      <td>19</td>\n",
       "      <td>17</td>\n",
       "      <td>2</td>\n",
       "      <td>8</td>\n",
       "      <td>Senior</td>\n",
       "    </tr>\n",
       "  </tbody>\n",
       "</table>\n",
       "<p>5 rows × 28 columns</p>\n",
       "</div>"
      ],
      "text/plain": [
       "   Age Attrition BusinessTravel  DailyRate              Department  \\\n",
       "0   51        No  Travel_Rarely        684  Research & Development   \n",
       "1   52        No  Travel_Rarely        699  Research & Development   \n",
       "2   42        No  Travel_Rarely        532  Research & Development   \n",
       "3   47        No  Travel_Rarely        359  Research & Development   \n",
       "4   46        No  Travel_Rarely       1319                   Sales   \n",
       "\n",
       "  EducationLevel    EducationField EnvironmentSatisfaction  Gender  \\\n",
       "0       Bachelor     Life Sciences                     Low    Male   \n",
       "1         Master     Life Sciences                    High    Male   \n",
       "2        College  Technical Degree                    High    Male   \n",
       "3         Master           Medical                     Low  Female   \n",
       "4       Bachelor  Technical Degree                     Low  Female   \n",
       "\n",
       "   HourlyRate  ... PerformanceRating  StockOptionLevel YearsOfExperience  \\\n",
       "0          51  ...         Very Good                 0                23   \n",
       "1          65  ...         Very Good                 1                34   \n",
       "2          58  ...         Very Good                 0                22   \n",
       "3          82  ...         Very Good                 2                26   \n",
       "4          45  ...         Very Good                 1                25   \n",
       "\n",
       "  TrainingTimesLastYear WorkLifeBalance  YearsAtCompany YearsInCurrentRole  \\\n",
       "0                     5          Better              20                 18   \n",
       "1                     5          Better              33                 18   \n",
       "2                     3          Better              22                 17   \n",
       "3                     2            Best              20                 17   \n",
       "4                     5          Better              19                 17   \n",
       "\n",
       "   YearsSinceLastPromotion YearsWithCurrManager  PositionLevel  \n",
       "0                       15                   15         Senior  \n",
       "1                       11                    9         Senior  \n",
       "2                       11                   15         Senior  \n",
       "3                        5                    6         Senior  \n",
       "4                        2                    8         Senior  \n",
       "\n",
       "[5 rows x 28 columns]"
      ]
     },
     "execution_count": 491,
     "metadata": {},
     "output_type": "execute_result"
    }
   ],
   "source": [
    "# Organizing Job level column values into group (Binning)\n",
    "\n",
    "def job_level(value):\n",
    "    if 1<= value <=2.99:\n",
    "        return 'Junior'\n",
    "    elif 3<= value <= 3.99:\n",
    "        return 'Intermediate'\n",
    "    else:\n",
    "        return 'Senior'\n",
    "\n",
    "hr_new['PositionLevel']=hr_new['JobLevel'].apply(job_level)\n",
    "hr_new.head()\n"
   ]
  },
  {
   "cell_type": "code",
   "execution_count": 492,
   "id": "5e7ca321",
   "metadata": {},
   "outputs": [
    {
     "data": {
      "text/plain": [
       "array(['Senior', 'Intermediate', 'Junior'], dtype=object)"
      ]
     },
     "execution_count": 492,
     "metadata": {},
     "output_type": "execute_result"
    }
   ],
   "source": [
    "hr_new['PositionLevel'].unique()\n"
   ]
  },
  {
   "cell_type": "markdown",
   "id": "851e4d80",
   "metadata": {},
   "source": [
    "## 6 Exploratory Data Analysis (EDA)"
   ]
  },
  {
   "cell_type": "markdown",
   "id": "942a2878",
   "metadata": {},
   "source": [
    "### 6.1. Gender Representation in the Company"
   ]
  },
  {
   "cell_type": "code",
   "execution_count": 493,
   "id": "b6ace2c8",
   "metadata": {},
   "outputs": [
    {
     "name": "stdout",
     "output_type": "stream",
     "text": [
      "['Male' 'Female']\n"
     ]
    }
   ],
   "source": [
    "# Checking for Gender types in the Gender column.\n",
    "gender_type= hr_new['Gender'].unique()\n",
    "print(gender_type)"
   ]
  },
  {
   "cell_type": "code",
   "execution_count": 494,
   "id": "8580a065",
   "metadata": {},
   "outputs": [
    {
     "name": "stdout",
     "output_type": "stream",
     "text": [
      "   Gender  count\n",
      "0    Male    882\n",
      "1  Female    588\n"
     ]
    }
   ],
   "source": [
    "# Determining the number of people in each gender group in the Gender column.\n",
    "gender_dist= hr_new['Gender'].value_counts().reset_index()\n",
    "print(gender_dist)"
   ]
  },
  {
   "cell_type": "code",
   "execution_count": 495,
   "id": "57267f9f",
   "metadata": {},
   "outputs": [
    {
     "data": {
      "image/png": "[encoded data removed]",
      "text/plain": [
       "<Figure size 640x480 with 1 Axes>"
      ]
     },
     "metadata": {},
     "output_type": "display_data"
    }
   ],
   "source": [
    "# Plotting a Pie Chart to depict the distribution of Gender in the company.\n",
    "\n",
    "plt.pie(gender_dist['count'], labels = gender_dist['Gender'],autopct ='%1.1f%%')\n",
    "plt.title('Gender Distribution within the Company')\n",
    "plt.axis('equal')\n",
    "plt.show()"
   ]
  },
  {
   "cell_type": "markdown",
   "id": "6c19a1dd",
   "metadata": {},
   "source": [
    "#### The chart depicts the gender distribution of employees in the organization, with 60% male and 40% female. This results in a ratio of 3:2, indicating that for every 3 male employees, there are only 2 female employees."
   ]
  },
  {
   "cell_type": "code",
   "execution_count": 496,
   "id": "5eb71505",
   "metadata": {},
   "outputs": [
    {
     "data": {
      "text/plain": [
       "Attrition\n",
       "No     1233\n",
       "Yes     237\n",
       "Name: count, dtype: int64"
      ]
     },
     "execution_count": 496,
     "metadata": {},
     "output_type": "execute_result"
    }
   ],
   "source": [
    "hr_new['Attrition'].value_counts()"
   ]
  },
  {
   "cell_type": "markdown",
   "id": "f639211b",
   "metadata": {},
   "source": [
    "#### The company has 1,233 active staff members and a turnover of 237 employees, resulting in a turnover ratio of approximately 16.1%."
   ]
  },
  {
   "cell_type": "code",
   "execution_count": 497,
   "id": "f3694590",
   "metadata": {},
   "outputs": [
    {
     "data": {
      "text/plain": [
       "87"
      ]
     },
     "execution_count": 497,
     "metadata": {},
     "output_type": "execute_result"
    }
   ],
   "source": [
    "# Investigating attrition among Female Employees\n",
    "\n",
    "len(hr_new[(hr_new.Attrition=='Yes') & (hr_new.Gender=='Female')])\n",
    "\n"
   ]
  },
  {
   "cell_type": "markdown",
   "id": "e1fbba51",
   "metadata": {},
   "source": [
    "#### Out of the 237 employees who have departed the company, 87 were female. This means that approximately 36.7% of the total number of employees who have left are female.\n"
   ]
  },
  {
   "cell_type": "code",
   "execution_count": 498,
   "id": "05f84695",
   "metadata": {},
   "outputs": [
    {
     "data": {
      "text/plain": [
       "501"
      ]
     },
     "execution_count": 498,
     "metadata": {},
     "output_type": "execute_result"
    }
   ],
   "source": [
    "# Female employees currently with the company. \n",
    "len(hr_new[(hr_new.Attrition=='No') & (hr_new.Gender=='Female')])"
   ]
  },
  {
   "cell_type": "markdown",
   "id": "030c2378",
   "metadata": {},
   "source": [
    "#### The company has 501 female employees, and 87 of them have left, resulting in an attrition rate of approximately 15%."
   ]
  },
  {
   "cell_type": "code",
   "execution_count": 499,
   "id": "666e207a",
   "metadata": {},
   "outputs": [
    {
     "data": {
      "text/plain": [
       "150"
      ]
     },
     "execution_count": 499,
     "metadata": {},
     "output_type": "execute_result"
    }
   ],
   "source": [
    "# Investigating attrition among male Employees\n",
    "\n",
    "len(hr_new[(hr_new.Attrition=='Yes') & (hr_new.Gender=='Male')])\n",
    "\n"
   ]
  },
  {
   "cell_type": "markdown",
   "id": "cc041ef6",
   "metadata": {},
   "source": [
    "#### Out of the 237 employees who have left the company, a 150 were male.  This means approximately 63.3% of employees who have left the company were male, out of a total of 237 departures."
   ]
  },
  {
   "cell_type": "code",
   "execution_count": 500,
   "id": "7ab788ee",
   "metadata": {},
   "outputs": [
    {
     "data": {
      "text/plain": [
       "732"
      ]
     },
     "execution_count": 500,
     "metadata": {},
     "output_type": "execute_result"
    }
   ],
   "source": [
    "# Male employees currently with the company. \n",
    "len(hr_new[(hr_new.Attrition=='No') & (hr_new.Gender=='Male')])"
   ]
  },
  {
   "cell_type": "markdown",
   "id": "154006db",
   "metadata": {},
   "source": [
    "#### The company has 732 male employees, with 150 of them leaving, resulting in an attrition ratio of approximately 17%."
   ]
  },
  {
   "cell_type": "code",
   "execution_count": 501,
   "id": "81215089",
   "metadata": {},
   "outputs": [],
   "source": [
    "from pandas._libs.tslibs.period import DIFFERENT_FREQ\n",
    "hr_male = hr_new[hr_new['Gender'] == 'Male']\n",
    "hr_female = hr_new[hr_new['Gender'] == 'Female']"
   ]
  },
  {
   "cell_type": "code",
   "execution_count": 502,
   "id": "12c647b5",
   "metadata": {},
   "outputs": [
    {
     "name": "stdout",
     "output_type": "stream",
     "text": [
      "Average age for male employees is  36.6530612244898\n",
      "Average age for female employees is  37.32993197278912\n"
     ]
    }
   ],
   "source": [
    "mean_age_male = hr_male['Age'].mean()\n",
    "mean_age_female = hr_female['Age'].mean()\n",
    "\n",
    "print(\"Average age for male employees is \",mean_age_male)\n",
    "print(\"Average age for female employees is \", mean_age_female)"
   ]
  },
  {
   "cell_type": "code",
   "execution_count": 503,
   "id": "e2cecc10",
   "metadata": {},
   "outputs": [
    {
     "name": "stdout",
     "output_type": "stream",
     "text": [
      "Age average of employees is 36.923809523809524\n"
     ]
    }
   ],
   "source": [
    "age = hr_new['Age'].mean()\n",
    "print('Age average of employees is', age)\n"
   ]
  },
  {
   "cell_type": "code",
   "execution_count": 504,
   "id": "62d58c0e",
   "metadata": {},
   "outputs": [
    {
     "data": {
      "text/plain": [
       "<Axes: xlabel='Attrition', ylabel='Age'>"
      ]
     },
     "execution_count": 504,
     "metadata": {},
     "output_type": "execute_result"
    },
    {
     "data": {
      "image/png": "[encoded data removed]",
      "text/plain": [
       "<Figure size 640x480 with 1 Axes>"
      ]
     },
     "metadata": {},
     "output_type": "display_data"
    }
   ],
   "source": [
    "# Visualizing the relationship between Attrition, Age and Gender.\n",
    "sns.barplot(x='Attrition', y='Age', data=hr_new, hue = 'Gender', estimator= 'mean')"
   ]
  },
  {
   "cell_type": "markdown",
   "id": "51e24b34",
   "metadata": {},
   "source": [
    "#### The bar plot compares the average age of employees who have stayed with the company to those who have left, grouped by gender. It indicates that the average age of employees who have left is slightly younger than those currently employed, but the age difference is not significant."
   ]
  },
  {
   "cell_type": "markdown",
   "id": "01195d55",
   "metadata": {},
   "source": [
    "### 6.2. Gender Disparities in Access to Resources and Opportunities within the Company"
   ]
  },
  {
   "cell_type": "code",
   "execution_count": 505,
   "id": "91f7047a",
   "metadata": {},
   "outputs": [],
   "source": [
    "# Deleting rows where Attrition is \"Yes\" \n",
    "for x in hr_new.index:\n",
    "    if hr_new.loc[x, 'Attrition']=='Yes':\n",
    "        hr_new.drop(x, inplace = True)"
   ]
  },
  {
   "cell_type": "code",
   "execution_count": 506,
   "id": "3a6ebe3e",
   "metadata": {},
   "outputs": [
    {
     "data": {
      "text/plain": [
       "array(['No'], dtype=object)"
      ]
     },
     "execution_count": 506,
     "metadata": {},
     "output_type": "execute_result"
    }
   ],
   "source": [
    "hr_new['Attrition'].unique()"
   ]
  },
  {
   "cell_type": "code",
   "execution_count": 507,
   "id": "3d8fee15",
   "metadata": {},
   "outputs": [
    {
     "data": {
      "text/plain": [
       "Index(['Age', 'Attrition', 'BusinessTravel', 'DailyRate', 'Department',\n",
       "       'EducationLevel', 'EducationField', 'EnvironmentSatisfaction', 'Gender',\n",
       "       'HourlyRate', 'JobInvolvement', 'JobLevel', 'JobRole',\n",
       "       'JobSatisfaction', 'MaritalStatus', 'MonthlyIncome', 'OverTime',\n",
       "       'PercentSalaryHike', 'PerformanceRating', 'StockOptionLevel',\n",
       "       'YearsOfExperience', 'TrainingTimesLastYear', 'WorkLifeBalance',\n",
       "       'YearsAtCompany', 'YearsInCurrentRole', 'YearsSinceLastPromotion',\n",
       "       'YearsWithCurrManager', 'PositionLevel'],\n",
       "      dtype='object')"
      ]
     },
     "execution_count": 507,
     "metadata": {},
     "output_type": "execute_result"
    }
   ],
   "source": [
    "hr_new.columns"
   ]
  },
  {
   "cell_type": "code",
   "execution_count": 508,
   "id": "2e72a506",
   "metadata": {},
   "outputs": [
    {
     "data": {
      "text/plain": [
       "Gender\n",
       "Female    821.608782\n",
       "Male      806.273224\n",
       "Name: DailyRate, dtype: float64"
      ]
     },
     "execution_count": 508,
     "metadata": {},
     "output_type": "execute_result"
    }
   ],
   "source": [
    "# Investigating Gender disparities in average hourly rates.\n",
    "hr_new.groupby('Gender')['DailyRate'].mean()"
   ]
  },
  {
   "cell_type": "code",
   "execution_count": 509,
   "id": "9eec644e",
   "metadata": {},
   "outputs": [
    {
     "data": {
      "text/plain": [
       "<Axes: xlabel='Gender', ylabel='DailyRate'>"
      ]
     },
     "execution_count": 509,
     "metadata": {},
     "output_type": "execute_result"
    },
    {
     "data": {
      "image/png": "[encoded data removed]",
      "text/plain": [
       "<Figure size 640x480 with 1 Axes>"
      ]
     },
     "metadata": {},
     "output_type": "display_data"
    }
   ],
   "source": [
    "sns.boxplot(x='Gender', y='DailyRate', data = hr_new)"
   ]
  },
  {
   "cell_type": "markdown",
   "id": "52ecb838",
   "metadata": {},
   "source": [
    "#### The analysis of the daily rates by gender showed a small disparity in pay between female and male employees. In particular, the average daily rate for female employees is 821.61 dollars, while it is 806.27 dollars for male employees. This suggests that, on average, female employees earn 15.34 dollars more per day than their male counterparts."
   ]
  },
  {
   "cell_type": "code",
   "execution_count": 510,
   "id": "0c5e7b5a",
   "metadata": {},
   "outputs": [
    {
     "data": {
      "text/html": [
       "<div>\n",
       "<style scoped>\n",
       "    .dataframe tbody tr th:only-of-type {\n",
       "        vertical-align: middle;\n",
       "    }\n",
       "\n",
       "    .dataframe tbody tr th {\n",
       "        vertical-align: top;\n",
       "    }\n",
       "\n",
       "    .dataframe thead th {\n",
       "        text-align: right;\n",
       "    }\n",
       "</style>\n",
       "<table border=\"1\" class=\"dataframe\">\n",
       "  <thead>\n",
       "    <tr style=\"text-align: right;\">\n",
       "      <th></th>\n",
       "      <th>Age</th>\n",
       "      <th>Attrition</th>\n",
       "      <th>BusinessTravel</th>\n",
       "      <th>DailyRate</th>\n",
       "      <th>Department</th>\n",
       "      <th>EducationLevel</th>\n",
       "      <th>EducationField</th>\n",
       "      <th>EnvironmentSatisfaction</th>\n",
       "      <th>Gender</th>\n",
       "      <th>HourlyRate</th>\n",
       "      <th>...</th>\n",
       "      <th>PerformanceRating</th>\n",
       "      <th>StockOptionLevel</th>\n",
       "      <th>YearsOfExperience</th>\n",
       "      <th>TrainingTimesLastYear</th>\n",
       "      <th>WorkLifeBalance</th>\n",
       "      <th>YearsAtCompany</th>\n",
       "      <th>YearsInCurrentRole</th>\n",
       "      <th>YearsSinceLastPromotion</th>\n",
       "      <th>YearsWithCurrManager</th>\n",
       "      <th>PositionLevel</th>\n",
       "    </tr>\n",
       "  </thead>\n",
       "  <tbody>\n",
       "    <tr>\n",
       "      <th>0</th>\n",
       "      <td>51</td>\n",
       "      <td>No</td>\n",
       "      <td>Travel_Rarely</td>\n",
       "      <td>684</td>\n",
       "      <td>Research &amp; Development</td>\n",
       "      <td>Bachelor</td>\n",
       "      <td>Life Sciences</td>\n",
       "      <td>Low</td>\n",
       "      <td>Male</td>\n",
       "      <td>51</td>\n",
       "      <td>...</td>\n",
       "      <td>Very Good</td>\n",
       "      <td>0</td>\n",
       "      <td>23</td>\n",
       "      <td>5</td>\n",
       "      <td>Better</td>\n",
       "      <td>20</td>\n",
       "      <td>18</td>\n",
       "      <td>15</td>\n",
       "      <td>15</td>\n",
       "      <td>Senior</td>\n",
       "    </tr>\n",
       "    <tr>\n",
       "      <th>1</th>\n",
       "      <td>52</td>\n",
       "      <td>No</td>\n",
       "      <td>Travel_Rarely</td>\n",
       "      <td>699</td>\n",
       "      <td>Research &amp; Development</td>\n",
       "      <td>Master</td>\n",
       "      <td>Life Sciences</td>\n",
       "      <td>High</td>\n",
       "      <td>Male</td>\n",
       "      <td>65</td>\n",
       "      <td>...</td>\n",
       "      <td>Very Good</td>\n",
       "      <td>1</td>\n",
       "      <td>34</td>\n",
       "      <td>5</td>\n",
       "      <td>Better</td>\n",
       "      <td>33</td>\n",
       "      <td>18</td>\n",
       "      <td>11</td>\n",
       "      <td>9</td>\n",
       "      <td>Senior</td>\n",
       "    </tr>\n",
       "    <tr>\n",
       "      <th>2</th>\n",
       "      <td>42</td>\n",
       "      <td>No</td>\n",
       "      <td>Travel_Rarely</td>\n",
       "      <td>532</td>\n",
       "      <td>Research &amp; Development</td>\n",
       "      <td>College</td>\n",
       "      <td>Technical Degree</td>\n",
       "      <td>High</td>\n",
       "      <td>Male</td>\n",
       "      <td>58</td>\n",
       "      <td>...</td>\n",
       "      <td>Very Good</td>\n",
       "      <td>0</td>\n",
       "      <td>22</td>\n",
       "      <td>3</td>\n",
       "      <td>Better</td>\n",
       "      <td>22</td>\n",
       "      <td>17</td>\n",
       "      <td>11</td>\n",
       "      <td>15</td>\n",
       "      <td>Senior</td>\n",
       "    </tr>\n",
       "    <tr>\n",
       "      <th>3</th>\n",
       "      <td>47</td>\n",
       "      <td>No</td>\n",
       "      <td>Travel_Rarely</td>\n",
       "      <td>359</td>\n",
       "      <td>Research &amp; Development</td>\n",
       "      <td>Master</td>\n",
       "      <td>Medical</td>\n",
       "      <td>Low</td>\n",
       "      <td>Female</td>\n",
       "      <td>82</td>\n",
       "      <td>...</td>\n",
       "      <td>Very Good</td>\n",
       "      <td>2</td>\n",
       "      <td>26</td>\n",
       "      <td>2</td>\n",
       "      <td>Best</td>\n",
       "      <td>20</td>\n",
       "      <td>17</td>\n",
       "      <td>5</td>\n",
       "      <td>6</td>\n",
       "      <td>Senior</td>\n",
       "    </tr>\n",
       "    <tr>\n",
       "      <th>4</th>\n",
       "      <td>46</td>\n",
       "      <td>No</td>\n",
       "      <td>Travel_Rarely</td>\n",
       "      <td>1319</td>\n",
       "      <td>Sales</td>\n",
       "      <td>Bachelor</td>\n",
       "      <td>Technical Degree</td>\n",
       "      <td>Low</td>\n",
       "      <td>Female</td>\n",
       "      <td>45</td>\n",
       "      <td>...</td>\n",
       "      <td>Very Good</td>\n",
       "      <td>1</td>\n",
       "      <td>25</td>\n",
       "      <td>5</td>\n",
       "      <td>Better</td>\n",
       "      <td>19</td>\n",
       "      <td>17</td>\n",
       "      <td>2</td>\n",
       "      <td>8</td>\n",
       "      <td>Senior</td>\n",
       "    </tr>\n",
       "  </tbody>\n",
       "</table>\n",
       "<p>5 rows × 28 columns</p>\n",
       "</div>"
      ],
      "text/plain": [
       "   Age Attrition BusinessTravel  DailyRate              Department  \\\n",
       "0   51        No  Travel_Rarely        684  Research & Development   \n",
       "1   52        No  Travel_Rarely        699  Research & Development   \n",
       "2   42        No  Travel_Rarely        532  Research & Development   \n",
       "3   47        No  Travel_Rarely        359  Research & Development   \n",
       "4   46        No  Travel_Rarely       1319                   Sales   \n",
       "\n",
       "  EducationLevel    EducationField EnvironmentSatisfaction  Gender  \\\n",
       "0       Bachelor     Life Sciences                     Low    Male   \n",
       "1         Master     Life Sciences                    High    Male   \n",
       "2        College  Technical Degree                    High    Male   \n",
       "3         Master           Medical                     Low  Female   \n",
       "4       Bachelor  Technical Degree                     Low  Female   \n",
       "\n",
       "   HourlyRate  ... PerformanceRating  StockOptionLevel YearsOfExperience  \\\n",
       "0          51  ...         Very Good                 0                23   \n",
       "1          65  ...         Very Good                 1                34   \n",
       "2          58  ...         Very Good                 0                22   \n",
       "3          82  ...         Very Good                 2                26   \n",
       "4          45  ...         Very Good                 1                25   \n",
       "\n",
       "  TrainingTimesLastYear WorkLifeBalance  YearsAtCompany YearsInCurrentRole  \\\n",
       "0                     5          Better              20                 18   \n",
       "1                     5          Better              33                 18   \n",
       "2                     3          Better              22                 17   \n",
       "3                     2            Best              20                 17   \n",
       "4                     5          Better              19                 17   \n",
       "\n",
       "   YearsSinceLastPromotion YearsWithCurrManager  PositionLevel  \n",
       "0                       15                   15         Senior  \n",
       "1                       11                    9         Senior  \n",
       "2                       11                   15         Senior  \n",
       "3                        5                    6         Senior  \n",
       "4                        2                    8         Senior  \n",
       "\n",
       "[5 rows x 28 columns]"
      ]
     },
     "execution_count": 510,
     "metadata": {},
     "output_type": "execute_result"
    }
   ],
   "source": [
    "hr_new.head()"
   ]
  },
  {
   "cell_type": "code",
   "execution_count": 511,
   "id": "9a1c5336",
   "metadata": {},
   "outputs": [
    {
     "data": {
      "text/html": [
       "<div>\n",
       "<style scoped>\n",
       "    .dataframe tbody tr th:only-of-type {\n",
       "        vertical-align: middle;\n",
       "    }\n",
       "\n",
       "    .dataframe tbody tr th {\n",
       "        vertical-align: top;\n",
       "    }\n",
       "\n",
       "    .dataframe thead tr th {\n",
       "        text-align: left;\n",
       "    }\n",
       "\n",
       "    .dataframe thead tr:last-of-type th {\n",
       "        text-align: right;\n",
       "    }\n",
       "</style>\n",
       "<table border=\"1\" class=\"dataframe\">\n",
       "  <thead>\n",
       "    <tr>\n",
       "      <th></th>\n",
       "      <th colspan=\"4\" halign=\"left\">DailyRate</th>\n",
       "      <th colspan=\"4\" halign=\"left\">MonthlyIncome</th>\n",
       "    </tr>\n",
       "    <tr>\n",
       "      <th>Department</th>\n",
       "      <th>Human Resources</th>\n",
       "      <th>Research &amp; Development</th>\n",
       "      <th>Sales</th>\n",
       "      <th>All</th>\n",
       "      <th>Human Resources</th>\n",
       "      <th>Research &amp; Development</th>\n",
       "      <th>Sales</th>\n",
       "      <th>All</th>\n",
       "    </tr>\n",
       "    <tr>\n",
       "      <th>Gender</th>\n",
       "      <th></th>\n",
       "      <th></th>\n",
       "      <th></th>\n",
       "      <th></th>\n",
       "      <th></th>\n",
       "      <th></th>\n",
       "      <th></th>\n",
       "      <th></th>\n",
       "    </tr>\n",
       "  </thead>\n",
       "  <tbody>\n",
       "    <tr>\n",
       "      <th>Female</th>\n",
       "      <td>887.428571</td>\n",
       "      <td>796.928571</td>\n",
       "      <td>870.423841</td>\n",
       "      <td>821.608782</td>\n",
       "      <td>8761.142857</td>\n",
       "      <td>6808.166667</td>\n",
       "      <td>7328.039735</td>\n",
       "      <td>7019.429142</td>\n",
       "    </tr>\n",
       "    <tr>\n",
       "      <th>Male</th>\n",
       "      <td>700.648649</td>\n",
       "      <td>827.766260</td>\n",
       "      <td>773.433498</td>\n",
       "      <td>806.273224</td>\n",
       "      <td>6810.513514</td>\n",
       "      <td>6508.873984</td>\n",
       "      <td>7160.980296</td>\n",
       "      <td>6704.964481</td>\n",
       "    </tr>\n",
       "    <tr>\n",
       "      <th>All</th>\n",
       "      <td>751.921569</td>\n",
       "      <td>815.252415</td>\n",
       "      <td>814.805085</td>\n",
       "      <td>812.504461</td>\n",
       "      <td>7345.980392</td>\n",
       "      <td>6630.326087</td>\n",
       "      <td>7232.240113</td>\n",
       "      <td>6832.739659</td>\n",
       "    </tr>\n",
       "  </tbody>\n",
       "</table>\n",
       "</div>"
      ],
      "text/plain": [
       "                 DailyRate                                                 \\\n",
       "Department Human Resources Research & Development       Sales         All   \n",
       "Gender                                                                      \n",
       "Female          887.428571             796.928571  870.423841  821.608782   \n",
       "Male            700.648649             827.766260  773.433498  806.273224   \n",
       "All             751.921569             815.252415  814.805085  812.504461   \n",
       "\n",
       "             MonthlyIncome                                                   \n",
       "Department Human Resources Research & Development        Sales          All  \n",
       "Gender                                                                       \n",
       "Female         8761.142857            6808.166667  7328.039735  7019.429142  \n",
       "Male           6810.513514            6508.873984  7160.980296  6704.964481  \n",
       "All            7345.980392            6630.326087  7232.240113  6832.739659  "
      ]
     },
     "execution_count": 511,
     "metadata": {},
     "output_type": "execute_result"
    }
   ],
   "source": [
    "# Creating a Pivot Table\n",
    "pivot_table = pd.pivot_table(hr_new, index = 'Gender', columns = 'Department',\n",
    "                             values=['DailyRate', 'MonthlyIncome'], aggfunc = 'mean',  margins=True)\n",
    "\n",
    "pivot_table"
   ]
  },
  {
   "cell_type": "markdown",
   "id": "01fb9bbc",
   "metadata": {},
   "source": [
    "#### The analysis reveals the average daily rates and monthly incomes categorized by department and gender. Key findings indicate that female employees typically earn higher daily rates and monthly incomes than male employees, particularly in the Human Resources and Sales departments.\n",
    "\n",
    "\n",
    "\n"
   ]
  },
  {
   "cell_type": "code",
   "execution_count": 512,
   "id": "a80a6b72",
   "metadata": {},
   "outputs": [
    {
     "data": {
      "text/html": [
       "<div>\n",
       "<style scoped>\n",
       "    .dataframe tbody tr th:only-of-type {\n",
       "        vertical-align: middle;\n",
       "    }\n",
       "\n",
       "    .dataframe tbody tr th {\n",
       "        vertical-align: top;\n",
       "    }\n",
       "\n",
       "    .dataframe thead tr th {\n",
       "        text-align: left;\n",
       "    }\n",
       "\n",
       "    .dataframe thead tr:last-of-type th {\n",
       "        text-align: right;\n",
       "    }\n",
       "</style>\n",
       "<table border=\"1\" class=\"dataframe\">\n",
       "  <thead>\n",
       "    <tr>\n",
       "      <th></th>\n",
       "      <th colspan=\"6\" halign=\"left\">DailyRate</th>\n",
       "      <th colspan=\"6\" halign=\"left\">MonthlyIncome</th>\n",
       "    </tr>\n",
       "    <tr>\n",
       "      <th>EducationLevel</th>\n",
       "      <th>Bachelor</th>\n",
       "      <th>Below College</th>\n",
       "      <th>College</th>\n",
       "      <th>Master</th>\n",
       "      <th>Ph.D</th>\n",
       "      <th>All</th>\n",
       "      <th>Bachelor</th>\n",
       "      <th>Below College</th>\n",
       "      <th>College</th>\n",
       "      <th>Master</th>\n",
       "      <th>Ph.D</th>\n",
       "      <th>All</th>\n",
       "    </tr>\n",
       "    <tr>\n",
       "      <th>Gender</th>\n",
       "      <th></th>\n",
       "      <th></th>\n",
       "      <th></th>\n",
       "      <th></th>\n",
       "      <th></th>\n",
       "      <th></th>\n",
       "      <th></th>\n",
       "      <th></th>\n",
       "      <th></th>\n",
       "      <th></th>\n",
       "      <th></th>\n",
       "      <th></th>\n",
       "    </tr>\n",
       "  </thead>\n",
       "  <tbody>\n",
       "    <tr>\n",
       "      <th>Female</th>\n",
       "      <td>828.822335</td>\n",
       "      <td>825.571429</td>\n",
       "      <td>814.897959</td>\n",
       "      <td>822.413043</td>\n",
       "      <td>765.368421</td>\n",
       "      <td>821.608782</td>\n",
       "      <td>7174.238579</td>\n",
       "      <td>5892.959184</td>\n",
       "      <td>6604.908163</td>\n",
       "      <td>7132.123188</td>\n",
       "      <td>9638.947368</td>\n",
       "      <td>7019.429142</td>\n",
       "    </tr>\n",
       "    <tr>\n",
       "      <th>Male</th>\n",
       "      <td>768.880435</td>\n",
       "      <td>817.788889</td>\n",
       "      <td>848.900000</td>\n",
       "      <td>824.955446</td>\n",
       "      <td>787.208333</td>\n",
       "      <td>806.273224</td>\n",
       "      <td>6674.985507</td>\n",
       "      <td>5944.188889</td>\n",
       "      <td>6572.864286</td>\n",
       "      <td>7057.544554</td>\n",
       "      <td>7705.666667</td>\n",
       "      <td>6704.964481</td>\n",
       "    </tr>\n",
       "    <tr>\n",
       "      <th>All</th>\n",
       "      <td>793.845666</td>\n",
       "      <td>820.532374</td>\n",
       "      <td>834.899160</td>\n",
       "      <td>823.923529</td>\n",
       "      <td>777.558140</td>\n",
       "      <td>812.504461</td>\n",
       "      <td>6882.919662</td>\n",
       "      <td>5926.129496</td>\n",
       "      <td>6586.058824</td>\n",
       "      <td>7087.814706</td>\n",
       "      <td>8559.906977</td>\n",
       "      <td>6832.739659</td>\n",
       "    </tr>\n",
       "  </tbody>\n",
       "</table>\n",
       "</div>"
      ],
      "text/plain": [
       "                 DailyRate                                                    \\\n",
       "EducationLevel    Bachelor Below College     College      Master        Ph.D   \n",
       "Gender                                                                         \n",
       "Female          828.822335    825.571429  814.897959  822.413043  765.368421   \n",
       "Male            768.880435    817.788889  848.900000  824.955446  787.208333   \n",
       "All             793.845666    820.532374  834.899160  823.923529  777.558140   \n",
       "\n",
       "                           MonthlyIncome                             \\\n",
       "EducationLevel         All      Bachelor Below College      College   \n",
       "Gender                                                                \n",
       "Female          821.608782   7174.238579   5892.959184  6604.908163   \n",
       "Male            806.273224   6674.985507   5944.188889  6572.864286   \n",
       "All             812.504461   6882.919662   5926.129496  6586.058824   \n",
       "\n",
       "                                                       \n",
       "EducationLevel       Master         Ph.D          All  \n",
       "Gender                                                 \n",
       "Female          7132.123188  9638.947368  7019.429142  \n",
       "Male            7057.544554  7705.666667  6704.964481  \n",
       "All             7087.814706  8559.906977  6832.739659  "
      ]
     },
     "execution_count": 512,
     "metadata": {},
     "output_type": "execute_result"
    }
   ],
   "source": [
    "# Creating a Pivot Table\n",
    "pivot_table = pd.pivot_table(hr_new, index = 'Gender', columns = 'EducationLevel',\n",
    "                             values=['DailyRate', 'MonthlyIncome'], aggfunc = 'mean',  margins=True)\n",
    "\n",
    "pivot_table"
   ]
  },
  {
   "cell_type": "markdown",
   "id": "3156780c",
   "metadata": {},
   "source": [
    "#### Women across all educational levels tend to have slightly higher average daily rates and monthly incomes compared to men, with women with a Ph.D. showing significantly higher incomes than their male counterparts. This suggests that gender disparities in compensation persist within organizations at various education levels, indicating a need for further investigation into the factors influencing these differences."
   ]
  },
  {
   "cell_type": "code",
   "execution_count": 513,
   "id": "a8f08e51",
   "metadata": {},
   "outputs": [
    {
     "data": {
      "text/html": [
       "<div>\n",
       "<style scoped>\n",
       "    .dataframe tbody tr th:only-of-type {\n",
       "        vertical-align: middle;\n",
       "    }\n",
       "\n",
       "    .dataframe tbody tr th {\n",
       "        vertical-align: top;\n",
       "    }\n",
       "\n",
       "    .dataframe thead tr th {\n",
       "        text-align: left;\n",
       "    }\n",
       "\n",
       "    .dataframe thead tr:last-of-type th {\n",
       "        text-align: right;\n",
       "    }\n",
       "</style>\n",
       "<table border=\"1\" class=\"dataframe\">\n",
       "  <thead>\n",
       "    <tr>\n",
       "      <th></th>\n",
       "      <th colspan=\"7\" halign=\"left\">DailyRate</th>\n",
       "      <th colspan=\"7\" halign=\"left\">MonthlyIncome</th>\n",
       "    </tr>\n",
       "    <tr>\n",
       "      <th>EducationField</th>\n",
       "      <th>Human Resources</th>\n",
       "      <th>Life Sciences</th>\n",
       "      <th>Marketing</th>\n",
       "      <th>Medical</th>\n",
       "      <th>Other</th>\n",
       "      <th>Technical Degree</th>\n",
       "      <th>All</th>\n",
       "      <th>Human Resources</th>\n",
       "      <th>Life Sciences</th>\n",
       "      <th>Marketing</th>\n",
       "      <th>Medical</th>\n",
       "      <th>Other</th>\n",
       "      <th>Technical Degree</th>\n",
       "      <th>All</th>\n",
       "    </tr>\n",
       "    <tr>\n",
       "      <th>Gender</th>\n",
       "      <th></th>\n",
       "      <th></th>\n",
       "      <th></th>\n",
       "      <th></th>\n",
       "      <th></th>\n",
       "      <th></th>\n",
       "      <th></th>\n",
       "      <th></th>\n",
       "      <th></th>\n",
       "      <th></th>\n",
       "      <th></th>\n",
       "      <th></th>\n",
       "      <th></th>\n",
       "      <th></th>\n",
       "    </tr>\n",
       "  </thead>\n",
       "  <tbody>\n",
       "    <tr>\n",
       "      <th>Female</th>\n",
       "      <td>631.80</td>\n",
       "      <td>814.049505</td>\n",
       "      <td>795.592593</td>\n",
       "      <td>846.415205</td>\n",
       "      <td>755.629630</td>\n",
       "      <td>855.428571</td>\n",
       "      <td>821.608782</td>\n",
       "      <td>12309.40</td>\n",
       "      <td>6928.331683</td>\n",
       "      <td>7702.888889</td>\n",
       "      <td>6756.783626</td>\n",
       "      <td>6187.888889</td>\n",
       "      <td>7552.976190</td>\n",
       "      <td>7019.429142</td>\n",
       "    </tr>\n",
       "    <tr>\n",
       "      <th>Male</th>\n",
       "      <td>692.80</td>\n",
       "      <td>821.828571</td>\n",
       "      <td>681.285714</td>\n",
       "      <td>821.286957</td>\n",
       "      <td>815.363636</td>\n",
       "      <td>835.551724</td>\n",
       "      <td>806.273224</td>\n",
       "      <td>7336.80</td>\n",
       "      <td>6677.390476</td>\n",
       "      <td>7467.085714</td>\n",
       "      <td>6833.534783</td>\n",
       "      <td>6566.795455</td>\n",
       "      <td>5366.482759</td>\n",
       "      <td>6704.964481</td>\n",
       "    </tr>\n",
       "    <tr>\n",
       "      <th>All</th>\n",
       "      <td>677.55</td>\n",
       "      <td>818.789168</td>\n",
       "      <td>731.064516</td>\n",
       "      <td>832.002494</td>\n",
       "      <td>792.647887</td>\n",
       "      <td>843.900000</td>\n",
       "      <td>812.504461</td>\n",
       "      <td>8579.95</td>\n",
       "      <td>6775.437137</td>\n",
       "      <td>7569.774194</td>\n",
       "      <td>6800.805486</td>\n",
       "      <td>6422.704225</td>\n",
       "      <td>6284.810000</td>\n",
       "      <td>6832.739659</td>\n",
       "    </tr>\n",
       "  </tbody>\n",
       "</table>\n",
       "</div>"
      ],
      "text/plain": [
       "                     DailyRate                                        \\\n",
       "EducationField Human Resources Life Sciences   Marketing     Medical   \n",
       "Gender                                                                 \n",
       "Female                  631.80    814.049505  795.592593  846.415205   \n",
       "Male                    692.80    821.828571  681.285714  821.286957   \n",
       "All                     677.55    818.789168  731.064516  832.002494   \n",
       "\n",
       "                                                          MonthlyIncome  \\\n",
       "EducationField       Other Technical Degree         All Human Resources   \n",
       "Gender                                                                    \n",
       "Female          755.629630       855.428571  821.608782        12309.40   \n",
       "Male            815.363636       835.551724  806.273224         7336.80   \n",
       "All             792.647887       843.900000  812.504461         8579.95   \n",
       "\n",
       "                                                                     \\\n",
       "EducationField Life Sciences    Marketing      Medical        Other   \n",
       "Gender                                                                \n",
       "Female           6928.331683  7702.888889  6756.783626  6187.888889   \n",
       "Male             6677.390476  7467.085714  6833.534783  6566.795455   \n",
       "All              6775.437137  7569.774194  6800.805486  6422.704225   \n",
       "\n",
       "                                              \n",
       "EducationField Technical Degree          All  \n",
       "Gender                                        \n",
       "Female              7552.976190  7019.429142  \n",
       "Male                5366.482759  6704.964481  \n",
       "All                 6284.810000  6832.739659  "
      ]
     },
     "execution_count": 513,
     "metadata": {},
     "output_type": "execute_result"
    }
   ],
   "source": [
    "# Creating a Pivot Table\n",
    "pivot_table = pd.pivot_table(hr_new, index = 'Gender', columns = 'EducationField',\n",
    "                             values=['DailyRate', 'MonthlyIncome'], aggfunc = 'mean',  margins=True)\n",
    "\n",
    "pivot_table"
   ]
  },
  {
   "cell_type": "markdown",
   "id": "552fd014",
   "metadata": {},
   "source": [
    "\n",
    "#### The findings above indicate that there are gender disparities in compensation exist across various education fields within the company, with women in areas like Medical and Technical Degree receiving higher salaries than men."
   ]
  },
  {
   "cell_type": "code",
   "execution_count": 514,
   "id": "066f5963",
   "metadata": {},
   "outputs": [
    {
     "data": {
      "text/plain": [
       "array(['Travel_Rarely', 'Travel_Frequently', 'Non-Travel'], dtype=object)"
      ]
     },
     "execution_count": 514,
     "metadata": {},
     "output_type": "execute_result"
    }
   ],
   "source": [
    "# Investigating gender disparities in opportunities for business traveling \n",
    "hr_new['BusinessTravel'].unique()"
   ]
  },
  {
   "cell_type": "code",
   "execution_count": 515,
   "id": "665a33cc",
   "metadata": {},
   "outputs": [],
   "source": [
    "business_travel = hr_new.groupby(['BusinessTravel', 'Gender']).size().reset_index()"
   ]
  },
  {
   "cell_type": "code",
   "execution_count": 516,
   "id": "a90d4995",
   "metadata": {},
   "outputs": [],
   "source": [
    "business_travel= business_travel.rename(columns={0: 'Count'})"
   ]
  },
  {
   "cell_type": "code",
   "execution_count": 517,
   "id": "ef282de9",
   "metadata": {},
   "outputs": [
    {
     "data": {
      "text/html": [
       "<div>\n",
       "<style scoped>\n",
       "    .dataframe tbody tr th:only-of-type {\n",
       "        vertical-align: middle;\n",
       "    }\n",
       "\n",
       "    .dataframe tbody tr th {\n",
       "        vertical-align: top;\n",
       "    }\n",
       "\n",
       "    .dataframe thead th {\n",
       "        text-align: right;\n",
       "    }\n",
       "</style>\n",
       "<table border=\"1\" class=\"dataframe\">\n",
       "  <thead>\n",
       "    <tr style=\"text-align: right;\">\n",
       "      <th></th>\n",
       "      <th>BusinessTravel</th>\n",
       "      <th>Gender</th>\n",
       "      <th>Count</th>\n",
       "    </tr>\n",
       "  </thead>\n",
       "  <tbody>\n",
       "    <tr>\n",
       "      <th>0</th>\n",
       "      <td>Non-Travel</td>\n",
       "      <td>Female</td>\n",
       "      <td>46</td>\n",
       "    </tr>\n",
       "    <tr>\n",
       "      <th>1</th>\n",
       "      <td>Non-Travel</td>\n",
       "      <td>Male</td>\n",
       "      <td>92</td>\n",
       "    </tr>\n",
       "    <tr>\n",
       "      <th>2</th>\n",
       "      <td>Travel_Frequently</td>\n",
       "      <td>Female</td>\n",
       "      <td>87</td>\n",
       "    </tr>\n",
       "    <tr>\n",
       "      <th>3</th>\n",
       "      <td>Travel_Frequently</td>\n",
       "      <td>Male</td>\n",
       "      <td>121</td>\n",
       "    </tr>\n",
       "    <tr>\n",
       "      <th>4</th>\n",
       "      <td>Travel_Rarely</td>\n",
       "      <td>Female</td>\n",
       "      <td>368</td>\n",
       "    </tr>\n",
       "    <tr>\n",
       "      <th>5</th>\n",
       "      <td>Travel_Rarely</td>\n",
       "      <td>Male</td>\n",
       "      <td>519</td>\n",
       "    </tr>\n",
       "  </tbody>\n",
       "</table>\n",
       "</div>"
      ],
      "text/plain": [
       "      BusinessTravel  Gender  Count\n",
       "0         Non-Travel  Female     46\n",
       "1         Non-Travel    Male     92\n",
       "2  Travel_Frequently  Female     87\n",
       "3  Travel_Frequently    Male    121\n",
       "4      Travel_Rarely  Female    368\n",
       "5      Travel_Rarely    Male    519"
      ]
     },
     "execution_count": 517,
     "metadata": {},
     "output_type": "execute_result"
    }
   ],
   "source": [
    "business_travel"
   ]
  },
  {
   "cell_type": "code",
   "execution_count": 518,
   "id": "428006f9",
   "metadata": {},
   "outputs": [
    {
     "data": {
      "text/plain": [
       "<Axes: xlabel='BusinessTravel', ylabel='count'>"
      ]
     },
     "execution_count": 518,
     "metadata": {},
     "output_type": "execute_result"
    },
    {
     "data": {
      "image/png": "[encoded data removed]",
      "text/plain": [
       "<Figure size 640x480 with 1 Axes>"
      ]
     },
     "metadata": {},
     "output_type": "display_data"
    }
   ],
   "source": [
    "sns.countplot (x= 'BusinessTravel', data = hr_new, hue= 'Gender')"
   ]
  },
  {
   "cell_type": "markdown",
   "id": "7a4f7aae",
   "metadata": {},
   "source": [
    "#### Overall, males are more prevalent in every travel category, especially in the \"Travel Rarely\" segment, which also has the largest number of employees. This distribution indicates potential gender discrepancies in business travel frequencies within the company.\n",
    "\n",
    "\n",
    "\n",
    "\n",
    "\n"
   ]
  },
  {
   "cell_type": "code",
   "execution_count": 519,
   "id": "0db9f752",
   "metadata": {},
   "outputs": [
    {
     "data": {
      "text/plain": [
       "<Axes: xlabel='BusinessTravel', ylabel='JobLevel'>"
      ]
     },
     "execution_count": 519,
     "metadata": {},
     "output_type": "execute_result"
    },
    {
     "data": {
      "image/png": "[encoded data removed]",
      "text/plain": [
       "<Figure size 640x480 with 1 Axes>"
      ]
     },
     "metadata": {},
     "output_type": "display_data"
    }
   ],
   "source": [
    "sns.violinplot (x= 'BusinessTravel', y= 'JobLevel', data = hr_new, hue= 'Gender', split = True)"
   ]
  },
  {
   "cell_type": "markdown",
   "id": "09665506",
   "metadata": {},
   "source": [
    "\n",
    "#### The chart reveals that job levels 1 and 2 are the most prevalent in all categories of business travel for both males and females. The distribution patterns are fairly similar for both genders, with minor differences in density at various job levels. This indicates a consistent gender representation across different job levels, regardless of their frequency of business travel.\n",
    "\n",
    "\n",
    "\n",
    "\n",
    "\n"
   ]
  },
  {
   "cell_type": "markdown",
   "id": "257baee5",
   "metadata": {},
   "source": [
    "### 6.3 Gender Disparities in Performance and Overall Satisfaction\n"
   ]
  },
  {
   "cell_type": "code",
   "execution_count": 520,
   "id": "a54ee249",
   "metadata": {},
   "outputs": [
    {
     "data": {
      "text/html": [
       "<div>\n",
       "<style scoped>\n",
       "    .dataframe tbody tr th:only-of-type {\n",
       "        vertical-align: middle;\n",
       "    }\n",
       "\n",
       "    .dataframe tbody tr th {\n",
       "        vertical-align: top;\n",
       "    }\n",
       "\n",
       "    .dataframe thead th {\n",
       "        text-align: right;\n",
       "    }\n",
       "</style>\n",
       "<table border=\"1\" class=\"dataframe\">\n",
       "  <thead>\n",
       "    <tr style=\"text-align: right;\">\n",
       "      <th></th>\n",
       "      <th>Age</th>\n",
       "      <th>Attrition</th>\n",
       "      <th>BusinessTravel</th>\n",
       "      <th>DailyRate</th>\n",
       "      <th>Department</th>\n",
       "      <th>EducationLevel</th>\n",
       "      <th>EducationField</th>\n",
       "      <th>EnvironmentSatisfaction</th>\n",
       "      <th>Gender</th>\n",
       "      <th>HourlyRate</th>\n",
       "      <th>...</th>\n",
       "      <th>PerformanceRating</th>\n",
       "      <th>StockOptionLevel</th>\n",
       "      <th>YearsOfExperience</th>\n",
       "      <th>TrainingTimesLastYear</th>\n",
       "      <th>WorkLifeBalance</th>\n",
       "      <th>YearsAtCompany</th>\n",
       "      <th>YearsInCurrentRole</th>\n",
       "      <th>YearsSinceLastPromotion</th>\n",
       "      <th>YearsWithCurrManager</th>\n",
       "      <th>PositionLevel</th>\n",
       "    </tr>\n",
       "  </thead>\n",
       "  <tbody>\n",
       "    <tr>\n",
       "      <th>0</th>\n",
       "      <td>51</td>\n",
       "      <td>No</td>\n",
       "      <td>Travel_Rarely</td>\n",
       "      <td>684</td>\n",
       "      <td>Research &amp; Development</td>\n",
       "      <td>Bachelor</td>\n",
       "      <td>Life Sciences</td>\n",
       "      <td>Low</td>\n",
       "      <td>Male</td>\n",
       "      <td>51</td>\n",
       "      <td>...</td>\n",
       "      <td>Very Good</td>\n",
       "      <td>0</td>\n",
       "      <td>23</td>\n",
       "      <td>5</td>\n",
       "      <td>Better</td>\n",
       "      <td>20</td>\n",
       "      <td>18</td>\n",
       "      <td>15</td>\n",
       "      <td>15</td>\n",
       "      <td>Senior</td>\n",
       "    </tr>\n",
       "    <tr>\n",
       "      <th>1</th>\n",
       "      <td>52</td>\n",
       "      <td>No</td>\n",
       "      <td>Travel_Rarely</td>\n",
       "      <td>699</td>\n",
       "      <td>Research &amp; Development</td>\n",
       "      <td>Master</td>\n",
       "      <td>Life Sciences</td>\n",
       "      <td>High</td>\n",
       "      <td>Male</td>\n",
       "      <td>65</td>\n",
       "      <td>...</td>\n",
       "      <td>Very Good</td>\n",
       "      <td>1</td>\n",
       "      <td>34</td>\n",
       "      <td>5</td>\n",
       "      <td>Better</td>\n",
       "      <td>33</td>\n",
       "      <td>18</td>\n",
       "      <td>11</td>\n",
       "      <td>9</td>\n",
       "      <td>Senior</td>\n",
       "    </tr>\n",
       "    <tr>\n",
       "      <th>2</th>\n",
       "      <td>42</td>\n",
       "      <td>No</td>\n",
       "      <td>Travel_Rarely</td>\n",
       "      <td>532</td>\n",
       "      <td>Research &amp; Development</td>\n",
       "      <td>College</td>\n",
       "      <td>Technical Degree</td>\n",
       "      <td>High</td>\n",
       "      <td>Male</td>\n",
       "      <td>58</td>\n",
       "      <td>...</td>\n",
       "      <td>Very Good</td>\n",
       "      <td>0</td>\n",
       "      <td>22</td>\n",
       "      <td>3</td>\n",
       "      <td>Better</td>\n",
       "      <td>22</td>\n",
       "      <td>17</td>\n",
       "      <td>11</td>\n",
       "      <td>15</td>\n",
       "      <td>Senior</td>\n",
       "    </tr>\n",
       "    <tr>\n",
       "      <th>3</th>\n",
       "      <td>47</td>\n",
       "      <td>No</td>\n",
       "      <td>Travel_Rarely</td>\n",
       "      <td>359</td>\n",
       "      <td>Research &amp; Development</td>\n",
       "      <td>Master</td>\n",
       "      <td>Medical</td>\n",
       "      <td>Low</td>\n",
       "      <td>Female</td>\n",
       "      <td>82</td>\n",
       "      <td>...</td>\n",
       "      <td>Very Good</td>\n",
       "      <td>2</td>\n",
       "      <td>26</td>\n",
       "      <td>2</td>\n",
       "      <td>Best</td>\n",
       "      <td>20</td>\n",
       "      <td>17</td>\n",
       "      <td>5</td>\n",
       "      <td>6</td>\n",
       "      <td>Senior</td>\n",
       "    </tr>\n",
       "    <tr>\n",
       "      <th>4</th>\n",
       "      <td>46</td>\n",
       "      <td>No</td>\n",
       "      <td>Travel_Rarely</td>\n",
       "      <td>1319</td>\n",
       "      <td>Sales</td>\n",
       "      <td>Bachelor</td>\n",
       "      <td>Technical Degree</td>\n",
       "      <td>Low</td>\n",
       "      <td>Female</td>\n",
       "      <td>45</td>\n",
       "      <td>...</td>\n",
       "      <td>Very Good</td>\n",
       "      <td>1</td>\n",
       "      <td>25</td>\n",
       "      <td>5</td>\n",
       "      <td>Better</td>\n",
       "      <td>19</td>\n",
       "      <td>17</td>\n",
       "      <td>2</td>\n",
       "      <td>8</td>\n",
       "      <td>Senior</td>\n",
       "    </tr>\n",
       "  </tbody>\n",
       "</table>\n",
       "<p>5 rows × 28 columns</p>\n",
       "</div>"
      ],
      "text/plain": [
       "   Age Attrition BusinessTravel  DailyRate              Department  \\\n",
       "0   51        No  Travel_Rarely        684  Research & Development   \n",
       "1   52        No  Travel_Rarely        699  Research & Development   \n",
       "2   42        No  Travel_Rarely        532  Research & Development   \n",
       "3   47        No  Travel_Rarely        359  Research & Development   \n",
       "4   46        No  Travel_Rarely       1319                   Sales   \n",
       "\n",
       "  EducationLevel    EducationField EnvironmentSatisfaction  Gender  \\\n",
       "0       Bachelor     Life Sciences                     Low    Male   \n",
       "1         Master     Life Sciences                    High    Male   \n",
       "2        College  Technical Degree                    High    Male   \n",
       "3         Master           Medical                     Low  Female   \n",
       "4       Bachelor  Technical Degree                     Low  Female   \n",
       "\n",
       "   HourlyRate  ... PerformanceRating  StockOptionLevel YearsOfExperience  \\\n",
       "0          51  ...         Very Good                 0                23   \n",
       "1          65  ...         Very Good                 1                34   \n",
       "2          58  ...         Very Good                 0                22   \n",
       "3          82  ...         Very Good                 2                26   \n",
       "4          45  ...         Very Good                 1                25   \n",
       "\n",
       "  TrainingTimesLastYear WorkLifeBalance  YearsAtCompany YearsInCurrentRole  \\\n",
       "0                     5          Better              20                 18   \n",
       "1                     5          Better              33                 18   \n",
       "2                     3          Better              22                 17   \n",
       "3                     2            Best              20                 17   \n",
       "4                     5          Better              19                 17   \n",
       "\n",
       "   YearsSinceLastPromotion YearsWithCurrManager  PositionLevel  \n",
       "0                       15                   15         Senior  \n",
       "1                       11                    9         Senior  \n",
       "2                       11                   15         Senior  \n",
       "3                        5                    6         Senior  \n",
       "4                        2                    8         Senior  \n",
       "\n",
       "[5 rows x 28 columns]"
      ]
     },
     "execution_count": 520,
     "metadata": {},
     "output_type": "execute_result"
    }
   ],
   "source": [
    "hr_new.head()"
   ]
  },
  {
   "cell_type": "code",
   "execution_count": 521,
   "id": "e4968ead",
   "metadata": {},
   "outputs": [
    {
     "data": {
      "text/plain": [
       "array(['High', 'Very High', 'Low', 'Partial'], dtype=object)"
      ]
     },
     "execution_count": 521,
     "metadata": {},
     "output_type": "execute_result"
    }
   ],
   "source": [
    "# Investigating gender differences in job satisfaction \n",
    "hr_new['JobSatisfaction'].unique()"
   ]
  },
  {
   "cell_type": "code",
   "execution_count": 524,
   "id": "ebfb7beb",
   "metadata": {},
   "outputs": [
    {
     "data": {
      "text/plain": [
       "<Axes: xlabel='JobSatisfaction', ylabel='count'>"
      ]
     },
     "execution_count": 524,
     "metadata": {},
     "output_type": "execute_result"
    },
    {
     "data": {
      "image/png": "[encoded data removed]",
      "text/plain": [
       "<Figure size 640x480 with 1 Axes>"
      ]
     },
     "metadata": {},
     "output_type": "display_data"
    }
   ],
   "source": [
    "# Visualizing the relationship between Job Satisfaction and Gender.\n",
    "sns.countplot(x='JobSatisfaction',data=hr_new, hue = 'Gender')"
   ]
  },
  {
   "cell_type": "markdown",
   "id": "69fe1ac8",
   "metadata": {},
   "source": [
    "#### The graph illustrates that male workers consistently tend to express greater levels of job satisfaction compared to their female counterparts. This trend is most evident in the 'Very High' satisfaction category. However, in the 'Low' and 'Partial' satisfaction categories, the numbers are fairly similar between both genders, with males slightly outnumbering females."
   ]
  },
  {
   "cell_type": "code",
   "execution_count": 525,
   "id": "ad05fa4b",
   "metadata": {},
   "outputs": [
    {
     "data": {
      "text/plain": [
       "array(['Low', 'High', 'Very High', 'Partial'], dtype=object)"
      ]
     },
     "execution_count": 525,
     "metadata": {},
     "output_type": "execute_result"
    }
   ],
   "source": [
    "# Investigating gender differences in Environment satisfaction \n",
    "hr_new['EnvironmentSatisfaction'].unique()"
   ]
  },
  {
   "cell_type": "code",
   "execution_count": 526,
   "id": "74149504",
   "metadata": {},
   "outputs": [
    {
     "data": {
      "text/plain": [
       "<Axes: xlabel='EnvironmentSatisfaction', ylabel='count'>"
      ]
     },
     "execution_count": 526,
     "metadata": {},
     "output_type": "execute_result"
    },
    {
     "data": {
      "image/png": "[encoded data removed]",
      "text/plain": [
       "<Figure size 640x480 with 1 Axes>"
      ]
     },
     "metadata": {},
     "output_type": "display_data"
    }
   ],
   "source": [
    "# Visualizing the relationship between Environment and Gender.\n",
    "sns.countplot(x='EnvironmentSatisfaction',data=hr_new, hue = 'Gender')"
   ]
  },
  {
   "cell_type": "markdown",
   "id": "6e23c360",
   "metadata": {},
   "source": [
    "#### This bar plot shows the count of individuals by environment satisfaction levels (\"Low,\" \"High,\" \"Very High,\" and \"Partial\"), categorized by gender. Blue bars represent males, and orange bars represent females. For each satisfaction level, males outnumber females, with the largest difference observed in the \"Very High\" satisfaction level.\n",
    "\n",
    "\n",
    "\n",
    "\n",
    "\n",
    "\n"
   ]
  },
  {
   "cell_type": "code",
   "execution_count": 529,
   "id": "9f41ee06",
   "metadata": {},
   "outputs": [
    {
     "data": {
      "text/plain": [
       "array(['High', 'Partial', 'Very High', 'Low'], dtype=object)"
      ]
     },
     "execution_count": 529,
     "metadata": {},
     "output_type": "execute_result"
    }
   ],
   "source": [
    "# Investigating gender differences in Environment satisfaction \n",
    "hr_new['JobInvolvement'].unique()"
   ]
  },
  {
   "cell_type": "code",
   "execution_count": 531,
   "id": "2f29bf5f",
   "metadata": {},
   "outputs": [
    {
     "data": {
      "text/plain": [
       "<Axes: xlabel='JobInvolvement', ylabel='count'>"
      ]
     },
     "execution_count": 531,
     "metadata": {},
     "output_type": "execute_result"
    },
    {
     "data": {
      "image/png": "[encoded data removed]",
      "text/plain": [
       "<Figure size 640x480 with 1 Axes>"
      ]
     },
     "metadata": {},
     "output_type": "display_data"
    }
   ],
   "source": [
    "# Visualizing the relationship between Job Involvement and Gender.\n",
    "sns.countplot(x='JobInvolvement',data=hr_new, hue = 'Gender')"
   ]
  },
  {
   "cell_type": "markdown",
   "id": "fe948423",
   "metadata": {},
   "source": [
    "#### The data from the graph reveals that male workers Male workers demonstrate higher levels of job involvement compared to female workers, particularly in the 'High' category. However, in the 'Partial' and 'Very High' categories, gender differences are less pronounced. Both genders show minimal involvement in the 'Low' category."
   ]
  },
  {
   "cell_type": "code",
   "execution_count": 532,
   "id": "d50622e9",
   "metadata": {},
   "outputs": [
    {
     "data": {
      "text/plain": [
       "array(['Single', 'Married', 'Divorced'], dtype=object)"
      ]
     },
     "execution_count": 532,
     "metadata": {},
     "output_type": "execute_result"
    }
   ],
   "source": [
    "# Investigating gender differences in Marital Staus \n",
    "hr_new['MaritalStatus'].unique()"
   ]
  },
  {
   "cell_type": "code",
   "execution_count": 533,
   "id": "d15c7c70",
   "metadata": {},
   "outputs": [
    {
     "data": {
      "text/plain": [
       "<Axes: xlabel='MaritalStatus', ylabel='count'>"
      ]
     },
     "execution_count": 533,
     "metadata": {},
     "output_type": "execute_result"
    },
    {
     "data": {
      "image/png": "[encoded data removed]",
      "text/plain": [
       "<Figure size 640x480 with 1 Axes>"
      ]
     },
     "metadata": {},
     "output_type": "display_data"
    }
   ],
   "source": [
    "# Visualizing the relationship between Job Involvement and Gender.\n",
    "sns.countplot(x='MaritalStatus',data=hr_new, hue = 'Gender')"
   ]
  },
  {
   "cell_type": "markdown",
   "id": "b540c6fc",
   "metadata": {},
   "source": [
    "#### The count plot visually illustrates the distribution of marital status among genders in our dataset. In general, males have a higher representation in each marital status category, especially in the \"Married\" category, which also has the largest number of employees."
   ]
  },
  {
   "cell_type": "code",
   "execution_count": 535,
   "id": "409dede5",
   "metadata": {},
   "outputs": [
    {
     "data": {
      "text/plain": [
       "array(['Better', 'Best', 'Good', 'Bad'], dtype=object)"
      ]
     },
     "execution_count": 535,
     "metadata": {},
     "output_type": "execute_result"
    }
   ],
   "source": [
    "# Investigating gender differences in how they handle Work Life Balance \n",
    "hr_new['WorkLifeBalance'].unique()"
   ]
  },
  {
   "cell_type": "code",
   "execution_count": 536,
   "id": "229713d8",
   "metadata": {},
   "outputs": [
    {
     "data": {
      "text/plain": [
       "<Axes: xlabel='WorkLifeBalance', ylabel='count'>"
      ]
     },
     "execution_count": 536,
     "metadata": {},
     "output_type": "execute_result"
    },
    {
     "data": {
      "image/png": "[encoded data removed]",
      "text/plain": [
       "<Figure size 640x480 with 1 Axes>"
      ]
     },
     "metadata": {},
     "output_type": "display_data"
    }
   ],
   "source": [
    "# Visualizing the relationship between Job Involvement and Gender.\n",
    "sns.countplot(x='WorkLifeBalance',data=hr_new, hue = 'Gender')"
   ]
  },
  {
   "cell_type": "markdown",
   "id": "5390db4f",
   "metadata": {},
   "source": [
    "#### The graph shows that most males report a \"Better\" work-life balance, followed by \"Best,\" \"Good,\" and only a few report \"Bad.\" Females also report the highest count in the \"Better\" category, with fewer responses in \"Good\" and the least in \"Bad\". The number of males reporting a \"Better\" work-life balance is significantly higher than that of females.\n"
   ]
  },
  {
   "cell_type": "code",
   "execution_count": 537,
   "id": "1d4797ca",
   "metadata": {},
   "outputs": [
    {
     "data": {
      "text/plain": [
       "array(['Very Good', 'Outstanding'], dtype=object)"
      ]
     },
     "execution_count": 537,
     "metadata": {},
     "output_type": "execute_result"
    }
   ],
   "source": [
    "# Investigating gender differences in how they perform at work \n",
    "hr_new['PerformanceRating'].unique()"
   ]
  },
  {
   "cell_type": "code",
   "execution_count": 538,
   "id": "60308b53",
   "metadata": {},
   "outputs": [
    {
     "data": {
      "text/plain": [
       "<Axes: xlabel='PerformanceRating', ylabel='count'>"
      ]
     },
     "execution_count": 538,
     "metadata": {},
     "output_type": "execute_result"
    },
    {
     "data": {
      "image/png": "[encoded data removed]",
      "text/plain": [
       "<Figure size 640x480 with 1 Axes>"
      ]
     },
     "metadata": {},
     "output_type": "display_data"
    }
   ],
   "source": [
    "# Visualizing the relationship between Performance Rating and Gender.\n",
    "sns.countplot(x='PerformanceRating',data=hr_new, hue = 'Gender')"
   ]
  },
  {
   "cell_type": "markdown",
   "id": "f9a1858a",
   "metadata": {},
   "source": [
    "#### The chart illustrates employee performance ratings, specifically \"Very Good\" and \"Outstanding,\" categorized by gender. It is evident from the data that both men and women receive \"Very Good\" ratings more frequently than \"Outstanding.\" Nevertheless, a significantly greater number of men are represented in both performance categories compared to women. The distribution indicates that while a large proportion of employees attain a \"Very Good\" rating, only a few reach the level of \"Outstanding.\" "
   ]
  },
  {
   "cell_type": "code",
   "execution_count": 540,
   "id": "cbb36e23",
   "metadata": {},
   "outputs": [
    {
     "data": {
      "text/plain": [
       "array([13, 14, 11, 19, 12, 25, 16, 17, 22, 23, 20, 21, 15, 24, 18],\n",
       "      dtype=int64)"
      ]
     },
     "execution_count": 540,
     "metadata": {},
     "output_type": "execute_result"
    }
   ],
   "source": [
    "# Investigating gender differences in how they perform at work \n",
    "hr_new['PercentSalaryHike'].unique()"
   ]
  },
  {
   "cell_type": "code",
   "execution_count": 550,
   "id": "bff57952",
   "metadata": {},
   "outputs": [
    {
     "data": {
      "text/plain": [
       "<Axes: xlabel='EducationField', ylabel='PercentSalaryHike'>"
      ]
     },
     "execution_count": 550,
     "metadata": {},
     "output_type": "execute_result"
    },
    {
     "data": {
      "image/png": "[encoded data removed]",
      "text/plain": [
       "<Figure size 640x480 with 1 Axes>"
      ]
     },
     "metadata": {},
     "output_type": "display_data"
    }
   ],
   "source": [
    "sns.boxplot(x='EducationField', y = 'PercentSalaryHike', data=hr_new, hue='Gender')"
   ]
  },
  {
   "cell_type": "markdown",
   "id": "9d617778",
   "metadata": {},
   "source": [
    "#### This box plot displays the distribution of percent salary hikes across different education fields, categorized by gender. The education fields include Life Sciences, Technical Degree, Medical, Marketing, Other, and Human Resources.  In general, the distributions of salary hikes vary by education field, with some fields showing higher median salary hikes for males and others for females."
   ]
  },
  {
   "cell_type": "markdown",
   "id": "e217e5b2",
   "metadata": {},
   "source": [
    "### 6.4 Gender Disparities in Accessibility to Power"
   ]
  },
  {
   "cell_type": "code",
   "execution_count": 528,
   "id": "90b38a76",
   "metadata": {},
   "outputs": [
    {
     "data": {
      "text/plain": [
       "Index(['Age', 'Attrition', 'BusinessTravel', 'DailyRate', 'Department',\n",
       "       'EducationLevel', 'EducationField', 'EnvironmentSatisfaction', 'Gender',\n",
       "       'HourlyRate', 'JobInvolvement', 'JobLevel', 'JobRole',\n",
       "       'JobSatisfaction', 'MaritalStatus', 'MonthlyIncome', 'OverTime',\n",
       "       'PercentSalaryHike', 'PerformanceRating', 'StockOptionLevel',\n",
       "       'YearsOfExperience', 'TrainingTimesLastYear', 'WorkLifeBalance',\n",
       "       'YearsAtCompany', 'YearsInCurrentRole', 'YearsSinceLastPromotion',\n",
       "       'YearsWithCurrManager', 'PositionLevel'],\n",
       "      dtype='object')"
      ]
     },
     "execution_count": 528,
     "metadata": {},
     "output_type": "execute_result"
    }
   ],
   "source": [
    "hr_new.columns\n"
   ]
  },
  {
   "cell_type": "code",
   "execution_count": 547,
   "id": "8bd2f7ba",
   "metadata": {},
   "outputs": [
    {
     "data": {
      "text/plain": [
       "array([0, 1, 2, 3], dtype=int64)"
      ]
     },
     "execution_count": 547,
     "metadata": {},
     "output_type": "execute_result"
    }
   ],
   "source": [
    "# Investigating gender differences in Stock option level \n",
    "hr_new['StockOptionLevel'].unique()"
   ]
  },
  {
   "cell_type": "code",
   "execution_count": 560,
   "id": "7b6a73ee",
   "metadata": {},
   "outputs": [
    {
     "data": {
      "text/plain": [
       "<Axes: xlabel='Department', ylabel='StockOptionLevel'>"
      ]
     },
     "execution_count": 560,
     "metadata": {},
     "output_type": "execute_result"
    },
    {
     "data": {
      "image/png": "[encoded data removed]",
      "text/plain": [
       "<Figure size 640x480 with 1 Axes>"
      ]
     },
     "metadata": {},
     "output_type": "display_data"
    }
   ],
   "source": [
    "sns.barplot(x='Department', y = 'StockOptionLevel', data=hr_new, hue='Gender')"
   ]
  },
  {
   "cell_type": "markdown",
   "id": "96bb4820",
   "metadata": {},
   "source": [
    "#### The distribution of stock options across departments is relatively balanced between genders, although there are some variations indicating a range of distribution within the departments."
   ]
  },
  {
   "cell_type": "code",
   "execution_count": 551,
   "id": "a0dbdfdf",
   "metadata": {},
   "outputs": [
    {
     "data": {
      "text/plain": [
       "array([5, 4, 3, 2, 1], dtype=int64)"
      ]
     },
     "execution_count": 551,
     "metadata": {},
     "output_type": "execute_result"
    }
   ],
   "source": [
    "# Investigating gender differences in Job level \n",
    "hr_new['JobLevel'].unique()"
   ]
  },
  {
   "cell_type": "code",
   "execution_count": 554,
   "id": "7a3f257f",
   "metadata": {},
   "outputs": [
    {
     "data": {
      "text/plain": [
       "<Axes: xlabel='Department', ylabel='JobLevel'>"
      ]
     },
     "execution_count": 554,
     "metadata": {},
     "output_type": "execute_result"
    },
    {
     "data": {
      "image/png": "[encoded data removed]",
      "text/plain": [
       "<Figure size 640x480 with 1 Axes>"
      ]
     },
     "metadata": {},
     "output_type": "display_data"
    }
   ],
   "source": [
    "sns.barplot(x='Department', y = 'JobLevel', data=hr_new, hue='Gender')"
   ]
  },
  {
   "cell_type": "markdown",
   "id": "226e20aa",
   "metadata": {},
   "source": [
    "#### This bar plot displays the average job levels across different departments, categorized by gender. The departments are Research & Development, Sales, and Human Resources. Blue bars represent males, and orange bars represent females. Overall, the average job levels are relatively consistent across genders in the Research & Development and Sales departments, with a notable higher job level for females in Human Resources."
   ]
  },
  {
   "cell_type": "code",
   "execution_count": 556,
   "id": "c9a79f3f",
   "metadata": {},
   "outputs": [
    {
     "data": {
      "text/plain": [
       "array(['Research Director', 'Manager', 'Sales Executive',\n",
       "       'Manufacturing Director', 'Research Scientist',\n",
       "       'Healthcare Representative', 'Laboratory Technician',\n",
       "       'Sales Representative', 'Human Resources'], dtype=object)"
      ]
     },
     "execution_count": 556,
     "metadata": {},
     "output_type": "execute_result"
    }
   ],
   "source": [
    "# Investigating gender differences in Job Role \n",
    "hr_new['JobRole'].unique()"
   ]
  },
  {
   "cell_type": "code",
   "execution_count": 558,
   "id": "090b54cb",
   "metadata": {},
   "outputs": [
    {
     "data": {
      "text/plain": [
       "<Axes: xlabel='Department', ylabel='JobLevel'>"
      ]
     },
     "execution_count": 558,
     "metadata": {},
     "output_type": "execute_result"
    },
    {
     "data": {
      "image/png": "[encoded data removed]",
      "text/plain": [
       "<Figure size 640x480 with 1 Axes>"
      ]
     },
     "metadata": {},
     "output_type": "display_data"
    }
   ],
   "source": [
    "sns.barplot(x='Department', y = 'JobLevel', data=hr_new, hue='Gender')"
   ]
  },
  {
   "cell_type": "markdown",
   "id": "96638430",
   "metadata": {},
   "source": [
    "#### The data suggest that while job levels in the Sales department are relatively balanced between genders, however, discrepancies exist in Research & Development and Human Resources departments. "
   ]
  },
  {
   "cell_type": "markdown",
   "id": "288253ed",
   "metadata": {},
   "source": [
    "## 7.1 Recommendations"
   ]
  },
  {
   "cell_type": "markdown",
   "id": "a3cc97b7",
   "metadata": {},
   "source": [
    "#### 1. Perform regular audits to assess gender representation, job level distribution, and pay equity across all departments.\n",
    "#### 2. Develop programs that support the career advancement of the underrepresented genders in departments with notable disparities.\n",
    "#### 3. Develop a process that will help mitigate unconscious bias in the promotion process. Also, the criteria for promotion should be equally accessible to all. \n",
    "#### 4. Provide equal access to professional development opportunities and encourage participation across all departments especially in departments where gender disparities are evident.\n",
    "#### 5. Promote a culture of inclusion and diversity through training and create a support network for underrepresented groups.\n",
    "#### 6. Review  their recruitment practices and implement strategies that will help them attract a diverse pool of candidates.\n",
    "#### 7. Set measurable goals that are transparent for reducing gender disparities and regularly report on progress to all stakeholders."
   ]
  },
  {
   "cell_type": "code",
   "execution_count": null,
   "id": "4bf42005",
   "metadata": {},
   "outputs": [],
   "source": []
  }
 ],
 "metadata": {
  "kernelspec": {
   "display_name": "Python 3 (ipykernel)",
   "language": "python",
   "name": "python3"
  },
  "language_info": {
   "codemirror_mode": {
    "name": "ipython",
    "version": 3
   },
   "file_extension": ".py",
   "mimetype": "text/x-python",
   "name": "python",
   "nbconvert_exporter": "python",
   "pygments_lexer": "ipython3",
   "version": "3.11.5"
  }
 },
 "nbformat": 4,
 "nbformat_minor": 5
}
